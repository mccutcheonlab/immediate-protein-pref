{
 "cells": [
  {
   "cell_type": "code",
   "execution_count": 1,
   "metadata": {},
   "outputs": [],
   "source": [
    "from pathlib import Path\n",
    "import numpy as np\n",
    "import pandas as pd\n",
    "from scipy.stats import ttest_ind, ttest_rel, ttest_1samp\n",
    "from scipy.stats import linregress\n",
    "import matplotlib.pyplot as plt\n",
    "import seaborn as sns\n",
    "import pingouin as pg\n",
    "import trompy as tp"
   ]
  },
  {
   "cell_type": "code",
   "execution_count": 2,
   "metadata": {},
   "outputs": [],
   "source": [
    "DATAFOLDER = Path(\"..\\\\data\")\n",
    "FIGSFOLDER = Path(\"..\\\\figures\")\n",
    "FIGSFOLDER = Path(\"C:\\\\Users\\\\jmc010\\\\Dropbox\\\\Publications in Progress\\\\IPP Giulia paper\\\\figs\")\n",
    "\n",
    "save_figs = True\n",
    "\n",
    "def tweak_df(df):\n",
    "\n",
    "    return (df\n",
    "            .query(\"session == 's4'\")\n",
    "            )\n",
    "\n",
    "df = pd.read_excel(DATAFOLDER / \"metafile_ipp.xlsx\", sheet_name=\"metafile Exp 1\")\n",
    "df = tweak_df(df)"
   ]
  },
  {
   "cell_type": "code",
   "execution_count": 3,
   "metadata": {},
   "outputs": [],
   "source": [
    "def get_lickdata(row):\n",
    "    filename = row.medfile\n",
    "    \n",
    "    L_on, L_off = tp.medfilereader(DATAFOLDER / filename, vars_to_extract=[\"b\", \"c\"], remove_var_header=True)\n",
    "    R_on, R_off = tp.medfilereader(DATAFOLDER / filename, vars_to_extract=[\"e\", \"f\"], remove_var_header=True)\n",
    "    \n",
    "    L_lickdata = tp.lickCalc(L_on, offset=L_off)\n",
    "    R_lickdata = tp.lickCalc(R_on, offset=R_off)\n",
    "\n",
    "    if \"cas\" in row.bottleL and \"malt\" in row.bottleR:\n",
    "        cas_lickdata, malt_lickdata = L_lickdata, R_lickdata\n",
    "    elif \"cas\" in row.bottleR and \"malt\" in row.bottleL:\n",
    "        cas_lickdata, malt_lickdata = R_lickdata, L_lickdata\n",
    "    else:\n",
    "        raise ValueError(\"Bottles not found\")\n",
    "    return cas_lickdata, malt_lickdata\n",
    "\n",
    "row = df.loc[48,:]\n",
    "cas_lickdata, malt_lickdata = get_lickdata(row)\n",
    "# print(cas_lickdata, malt_lickdata)"
   ]
  },
  {
   "cell_type": "code",
   "execution_count": 4,
   "metadata": {},
   "outputs": [],
   "source": [
    "def get_intake_per_solution(row):\n",
    "\n",
    "    if \"cas\" in row.bottleL and \"malt\" in row.bottleR:\n",
    "        return row.intakeL, row.intakeR\n",
    "    elif \"cas\" in row.bottleR and \"malt\" in row.bottleL:\n",
    "        return row.intakeR, row.intakeL\n",
    "    else:\n",
    "        raise ValueError(\"Bottles not found\")\n",
    "    \n",
    "PR_cas, PR_malt = [], []\n",
    "for row in df.query(\"dietgroup == 'PR'\").iterrows():\n",
    "    cas_ml, malt_ml = get_intake_per_solution(row[1])\n",
    "\n",
    "    PR_cas.append(cas_ml)\n",
    "    PR_malt.append(malt_ml)\n",
    "\n",
    "NR_cas, NR_malt = [], []\n",
    "for row in df.dropna().query(\"dietgroup == 'NR'\").iterrows():\n",
    "    cas_ml, malt_ml = get_intake_per_solution(row[1])\n",
    "\n",
    "    NR_cas.append(cas_ml)\n",
    "    NR_malt.append(malt_ml)\n",
    "\n",
    "NR_cas, NR_malt = zip(*[(c, m) for c, m in zip(NR_cas, NR_malt) if c > 0 and m > 0])\n",
    "PR_cas, PR_malt = zip(*[(c, m) for c, m in zip(PR_cas, PR_malt) if c > 0 and m > 0])\n",
    "\n",
    "NR_cas = np.array(NR_cas)\n",
    "NR_malt = np.array(NR_malt)\n",
    "PR_cas = np.array(PR_cas)\n",
    "PR_malt = np.array(PR_malt)"
   ]
  },
  {
   "cell_type": "markdown",
   "metadata": {},
   "source": [
    "## Panel S1A"
   ]
  },
  {
   "cell_type": "code",
   "execution_count": 5,
   "metadata": {},
   "outputs": [
    {
     "data": {
      "image/png": "[encoded data removed]",
      "text/plain": [
       "<Figure size 200x200 with 1 Axes>"
      ]
     },
     "metadata": {},
     "output_type": "display_data"
    }
   ],
   "source": [
    "colors = [\"xkcd:silver\", \"white\", \"xkcd:electric blue\", \"xkcd:powder blue\"]\n",
    "\n",
    "f, ax = plt.subplots(figsize=(2, 2),\n",
    "                     gridspec_kw={\"left\": 0.35, \"bottom\": 0.1, \"top\": 0.95, \"right\": 0.95})\n",
    "\n",
    "tp.barscatter([[NR_cas, NR_malt], [PR_cas, PR_malt],],\n",
    "              ax=ax,\n",
    "              paired=True,\n",
    "              barfacecolor_option=\"individual\",\n",
    "              barfacecolor=colors,\n",
    "              scattersize=40\n",
    "            );\n",
    "\n",
    "ax.set_yticks([0, 10, 20])\n",
    "ax.set_ylabel(\"Intake (mL)\")\n",
    "\n",
    "if save_figs:\n",
    "    f.savefig(FIGSFOLDER / \"S1A_mL_per_solution.pdf\", dpi=300)"
   ]
  },
  {
   "cell_type": "code",
   "execution_count": 6,
   "metadata": {},
   "outputs": [
    {
     "name": "stdout",
     "output_type": "stream",
     "text": [
      "        Source          SS  DF1  DF2          MS         F     p-unc  \\\n",
      "0         diet   16.969862    1   21   16.969862  0.758320  0.393701   \n",
      "1     solution   91.847826    1   21   91.847826  3.200108  0.088069   \n",
      "2  Interaction  209.921113    1   21  209.921113  7.313948  0.013279   \n",
      "\n",
      "        np2  eps  \n",
      "0  0.034852  NaN  \n",
      "1  0.132235  1.0  \n",
      "2  0.258316  NaN  \n"
     ]
    }
   ],
   "source": [
    "### Stats\n",
    "data = {\n",
    "    'subject': np.tile(np.arange(1, len(NR_cas) + len(PR_cas) + 1), 2),\n",
    "    'diet': np.tile([\"NR\"] * len(NR_cas) + [\"PR\"] * len(PR_cas), 2),\n",
    "    'solution': np.array([\"cas\"] * (len(NR_cas) + len(PR_cas)) + [\"malt\"] * (len(NR_malt) + len(PR_malt))),\n",
    "    'licks': np.concatenate([NR_cas, PR_cas, NR_malt, PR_malt])\n",
    "}\n",
    "\n",
    "df_stats = pd.DataFrame(data)\n",
    "\n",
    "aov = pg.mixed_anova(data=df_stats, dv='licks', subject='subject', within='solution', between='diet')\n",
    "\n",
    "print(aov)"
   ]
  },
  {
   "cell_type": "code",
   "execution_count": 7,
   "metadata": {},
   "outputs": [
    {
     "name": "stdout",
     "output_type": "stream",
     "text": [
      "NR cas vs NR malt = 0.928 (0.481 before correction))\n",
      "PR cas vs PR malt = 0.039 (0.010 before correction))\n",
      "NR cas vs PR cas = 0.100 (0.026 before correction))\n",
      "NR malt vs PR malt = 0.410 (0.124 before correction))\n"
     ]
    }
   ],
   "source": [
    "## Posthocs\n",
    "ncomps = 4 #because NR vs PR for each solution and cas vs malt for each diet group\n",
    "\n",
    "# solution\n",
    "_, p = ttest_rel(NR_cas, NR_malt)\n",
    "print(\"NR cas vs NR malt = {:.3f} ({:.3f} before correction))\".format(tp.sidakcorr(p, ncomps=ncomps), p))\n",
    "\n",
    "_, p = ttest_rel(PR_cas, PR_malt)\n",
    "print(\"PR cas vs PR malt = {:.3f} ({:.3f} before correction))\".format(tp.sidakcorr(p, ncomps=ncomps), p))\n",
    "\n",
    "# diet\n",
    "_, p = ttest_ind(NR_cas, PR_cas)\n",
    "print(\"NR cas vs PR cas = {:.3f} ({:.3f} before correction))\".format(tp.sidakcorr(p, ncomps=ncomps), p))\n",
    "\n",
    "_, p = ttest_ind(NR_malt, PR_malt)\n",
    "print(\"NR malt vs PR malt = {:.3f} ({:.3f} before correction))\".format(tp.sidakcorr(p, ncomps=ncomps), p))"
   ]
  },
  {
   "cell_type": "code",
   "execution_count": 12,
   "metadata": {},
   "outputs": [
    {
     "name": "stdout",
     "output_type": "stream",
     "text": [
      "NR rats drink average of 5.09 mL or 0.20 g protein\n",
      "PR rats drink average of 10.58 mL or 0.42 g protein\n"
     ]
    }
   ],
   "source": [
    "print(\"NR rats drink average of {:.2f} mL or {:.2f} g protein\".format(np.mean(NR_cas), np.mean(NR_cas) * 0.04))\n",
    "print(\"PR rats drink average of {:.2f} mL or {:.2f} g protein\".format(np.mean(PR_cas), np.mean(PR_cas) * 0.04))"
   ]
  },
  {
   "cell_type": "markdown",
   "metadata": {},
   "source": [
    "## Panel S1B"
   ]
  },
  {
   "cell_type": "code",
   "execution_count": 13,
   "metadata": {},
   "outputs": [
    {
     "data": {
      "image/png": "[encoded data removed]",
      "text/plain": [
       "<Figure size 140x200 with 1 Axes>"
      ]
     },
     "metadata": {},
     "output_type": "display_data"
    }
   ],
   "source": [
    "np.random.seed(41)\n",
    "\n",
    "def jitter(x, n, spread=0.1):\n",
    "    return x + np.random.normal(0, spread, n)\n",
    "\n",
    "def calc_pref(cas, malt):\n",
    "    if malt == 0:\n",
    "        return 1\n",
    "    elif cas == 0:\n",
    "        return 0\n",
    "    else:\n",
    "        return cas / (cas + malt)\n",
    "\n",
    "PR_pref = np.array([calc_pref(cas, malt) for cas, malt in zip(PR_cas, PR_malt)])\n",
    "NR_pref = np.array([calc_pref(cas, malt) for cas, malt in zip(NR_cas, NR_malt)])\n",
    "\n",
    "f, ax = plt.subplots(figsize=(1.4, 2),\n",
    "                     gridspec_kw={\"left\": 0.4, \"bottom\": 0.1, \"top\": 0.95, \"right\": 0.95})\n",
    "\n",
    "ax.bar( 0, np.mean(NR_pref), color=colors[0])\n",
    "ax.bar( 1, np.mean(PR_pref), color=colors[2])\n",
    "\n",
    "ax.scatter(jitter(0, len(NR_pref)), NR_pref, color=\"white\", edgecolor=\"grey\")\n",
    "ax.scatter(jitter(1, len(PR_pref)), PR_pref, color=\"white\", edgecolor=\"grey\")\n",
    "\n",
    "ax.set_ylim(0, 1.1)\n",
    "ax.set_xlim(-0.55, 1.55)\n",
    "ax.set_yticks([0, 0.5, 1])\n",
    "\n",
    "ax.set_xticks([0, 1], labels=[\"NR\", \"PR\"])\n",
    "\n",
    "ax.spines[\"top\"].set_visible(False)\n",
    "ax.spines[\"right\"].set_visible(False)\n",
    "\n",
    "ax.tick_params(axis='x', which='both', length=0)\n",
    "\n",
    "ax.set_ylabel(\"Protein preference\")\n",
    "\n",
    "if save_figs:\n",
    "    f.savefig(FIGSFOLDER / \"S1B_preference_mL.pdf\", dpi=300)"
   ]
  },
  {
   "cell_type": "code",
   "execution_count": 14,
   "metadata": {},
   "outputs": [
    {
     "name": "stdout",
     "output_type": "stream",
     "text": [
      "NR preference: t=-0.071, p=0.944\n",
      "PR preference: t=2.906, p=0.014\n"
     ]
    }
   ],
   "source": [
    "## Statistics\n",
    "t, p = ttest_1samp(NR_pref, 0.5)\n",
    "print(\"NR preference: t={:.3f}, p={:.3f}\".format(t, p))\n",
    "\n",
    "t, p = ttest_1samp(PR_pref, 0.5)\n",
    "print(\"PR preference: t={:.3f}, p={:.3f}\".format(t, p))"
   ]
  },
  {
   "cell_type": "markdown",
   "metadata": {},
   "source": [
    "## Panel S1C and D"
   ]
  },
  {
   "cell_type": "code",
   "execution_count": 15,
   "metadata": {},
   "outputs": [
    {
     "name": "stderr",
     "output_type": "stream",
     "text": [
      "c:\\Users\\jmc010\\AppData\\Local\\miniconda3\\Lib\\site-packages\\trompy\\lickcalc.py:239: RuntimeWarning: invalid value encountered in power\n",
      "  return (np.exp(-(alpha*x)**beta))\n"
     ]
    }
   ],
   "source": [
    "# to correlate licks with intake\n",
    "cas_licks, cas_intake, malt_licks, malt_intake = [], [], [], []\n",
    "\n",
    "for row in df.dropna().iterrows():\n",
    "    cas_lickdata_, malt_lickdata_ = get_lickdata(row[1])\n",
    "    cas_intake_, malt_intake_ = get_intake_per_solution(row[1])\n",
    "    \n",
    "    cas_licks.append(cas_lickdata_[\"total\"])\n",
    "    malt_licks.append(malt_lickdata_[\"total\"])\n",
    "    cas_intake.append(cas_intake_)\n",
    "    malt_intake.append(malt_intake_)\n",
    "\n",
    "cas_licks, cas_intake = zip(*[(cl, ci) for cl, ci in zip(cas_licks, cas_intake) if ci > 0])\n",
    "malt_licks, malt_intake = zip(*[(ml, mi) for ml, mi in zip(malt_licks, malt_intake) if mi > 0])\n",
    "\n",
    "cas_licks = np.array(cas_licks)\n",
    "malt_licks = np.array(malt_licks)   \n",
    "cas_intake = np.array(cas_intake)\n",
    "malt_intake = np.array(malt_intake)"
   ]
  },
  {
   "cell_type": "code",
   "execution_count": 16,
   "metadata": {},
   "outputs": [
    {
     "name": "stdout",
     "output_type": "stream",
     "text": [
      "250.21061137790906\n",
      "224.45992939099742\n"
     ]
    },
    {
     "data": {
      "image/png": "[encoded data removed]",
      "text/plain": [
       "<Figure size 400x200 with 2 Axes>"
      ]
     },
     "metadata": {},
     "output_type": "display_data"
    }
   ],
   "source": [
    "def make_corr_plot(x, y, ax=None, color=\"black\", limit_range=False):\n",
    "\n",
    "    if ax is None:\n",
    "        f, ax = plt.subplots(figsize=(2, 2))\n",
    "    \n",
    "    ax.scatter(x, y, color=color, alpha=0.1)\n",
    "\n",
    "    # to limit to the range of malt data\n",
    "    if limit_range:\n",
    "        x_ = x[y > 4000]\n",
    "        y_ = y[y > 4000]\n",
    "        x = x[y < 4000]\n",
    "        y = y[y < 4000]\n",
    "\n",
    "    ax.scatter(x, y, color=color, alpha=0.5)\n",
    "    if limit_range:\n",
    "        ax.scatter(x_, y_, facecolors='white', edgecolors='grey', alpha=0.1)\n",
    "\n",
    "    slope, intercept, r_value, p_value, std_err = linregress(x, y)\n",
    "    x_vals = np.array(ax.get_xlim())\n",
    "    regression_line = slope * x_vals + intercept\n",
    "\n",
    "    ax.plot(x_vals, regression_line, color=\"black\", alpha=0.5, linestyle=\"--\")\n",
    "\n",
    "    #ax.text(0.5, 0.2, f\"{slope:.0f} licks/mL\",\n",
    "    #        transform=ax.transAxes, ha=\"left\")\n",
    "    \n",
    "    ax.text(0.6, 0.3, f\"r={r_value:.2f},\\np<0.001\",\n",
    "            transform=ax.transAxes, ha=\"left\", va=\"top\")\n",
    "    \n",
    "    print(slope)\n",
    "\n",
    "f, [ax1, ax2] = plt.subplots(ncols=2, sharey=True,\n",
    "                     gridspec_kw={\"wspace\": 0.2, \"bottom\": 0.25, \"left\":0.2},\n",
    "                     figsize=(4, 2)\n",
    "                     )\n",
    "                     \n",
    "make_corr_plot(cas_intake, cas_licks, ax=ax1, color=\"black\", limit_range=False)\n",
    "make_corr_plot(malt_intake, malt_licks, ax=ax2, color=\"grey\", limit_range=False)\n",
    "\n",
    "for axis in [ax1, ax2]:\n",
    "    axis.spines[\"top\"].set_visible(False)\n",
    "    axis.spines[\"right\"].set_visible(False)\n",
    "    axis.set_xticks([0, 10, 20])\n",
    "    axis.set_yticks([0, 2000, 4000, 6000])\n",
    "    axis.set_xlabel(\"Intake (mL)\")\n",
    "\n",
    "ax1.set_ylabel(\"Licks\")\n",
    "\n",
    "if save_figs:\n",
    "    f.savefig(FIGSFOLDER / \"S1C_licks_vs_intake.pdf\", dpi=300)"
   ]
  },
  {
   "cell_type": "markdown",
   "metadata": {},
   "source": [
    "## Panel S1E"
   ]
  },
  {
   "cell_type": "code",
   "execution_count": 17,
   "metadata": {},
   "outputs": [
    {
     "data": {
      "image/png": "[encoded data removed]",
      "text/plain": [
       "<Figure size 150x200 with 1 Axes>"
      ]
     },
     "metadata": {},
     "output_type": "display_data"
    }
   ],
   "source": [
    "f, ax = plt.subplots(figsize=(1.5, 2),\n",
    "                     gridspec_kw={\"wspace\": 0.2, \"bottom\": 0.25, \"left\":0.45})\n",
    "\n",
    "sns.boxplot(data=[cas_licks / cas_intake, malt_licks / malt_intake], ax=ax, palette=[\"grey\", \"white\"])\n",
    "\n",
    "ax.set_ylabel(\"Licks/mL\")\n",
    "ax.set_yticks([0, 500, 1000])\n",
    "ax.set_xticks([])\n",
    "\n",
    "ax.spines[\"top\"].set_visible(False)\n",
    "ax.spines[\"right\"].set_visible(False)\n",
    "\n",
    "if save_figs:\n",
    "    f.savefig(FIGSFOLDER / \"S1D_licks_per_mL.pdf\", dpi=300)"
   ]
  },
  {
   "cell_type": "code",
   "execution_count": 18,
   "metadata": {},
   "outputs": [
    {
     "name": "stdout",
     "output_type": "stream",
     "text": [
      "295.87407969807975\n",
      "255.8570079678775\n"
     ]
    },
    {
     "data": {
      "text/plain": [
       "TtestResult(statistic=1.0285602583463342, pvalue=0.30906457987381303, df=46.0)"
      ]
     },
     "execution_count": 18,
     "metadata": {},
     "output_type": "execute_result"
    }
   ],
   "source": [
    "# Stats\n",
    "print(np.nanmean(cas_licks / cas_intake))\n",
    "print(np.nanmean(malt_licks / malt_intake))\n",
    "\n",
    "ttest_ind(cas_licks / cas_intake, malt_licks / malt_intake)"
   ]
  },
  {
   "cell_type": "markdown",
   "metadata": {},
   "source": [
    "## Panel S1F"
   ]
  },
  {
   "cell_type": "code",
   "execution_count": 19,
   "metadata": {},
   "outputs": [
    {
     "name": "stderr",
     "output_type": "stream",
     "text": [
      "c:\\Users\\jmc010\\AppData\\Local\\miniconda3\\Lib\\site-packages\\trompy\\lickcalc.py:239: RuntimeWarning: invalid value encountered in power\n",
      "  return (np.exp(-(alpha*x)**beta))\n"
     ]
    }
   ],
   "source": [
    "cas_licklength, malt_licklength = [], []\n",
    "for row in df.iterrows():\n",
    "    cas_lickdata_, malt_lickdata_ = get_lickdata(row[1])\n",
    "    \n",
    "    cas_licklength.append(cas_lickdata_[\"licklength\"])\n",
    "    malt_licklength.append(malt_lickdata_[\"licklength\"])"
   ]
  },
  {
   "cell_type": "code",
   "execution_count": 31,
   "metadata": {},
   "outputs": [
    {
     "name": "stdout",
     "output_type": "stream",
     "text": [
      "0.9851111111111112\n",
      "0.983086807111908\n"
     ]
    },
    {
     "name": "stderr",
     "output_type": "stream",
     "text": [
      "c:\\Users\\jmc010\\AppData\\Local\\miniconda3\\Lib\\site-packages\\seaborn\\_oldcore.py:1119: FutureWarning: use_inf_as_na option is deprecated and will be removed in a future version. Convert inf values to NaN before operating instead.\n",
      "  with pd.option_context('mode.use_inf_as_na', True):\n",
      "c:\\Users\\jmc010\\AppData\\Local\\miniconda3\\Lib\\site-packages\\seaborn\\_oldcore.py:1119: FutureWarning: use_inf_as_na option is deprecated and will be removed in a future version. Convert inf values to NaN before operating instead.\n",
      "  with pd.option_context('mode.use_inf_as_na', True):\n"
     ]
    },
    {
     "data": {
      "image/png": "[encoded data removed]",
      "text/plain": [
       "<Figure size 300x150 with 2 Axes>"
      ]
     },
     "metadata": {},
     "output_type": "display_data"
    }
   ],
   "source": [
    "c_ = np.array(tp.flatten_list(cas_licklength)) * 1000\n",
    "m_ = np.array(tp.flatten_list(malt_licklength)) * 1000\n",
    "\n",
    "f, [ax1, ax2] = plt.subplots(ncols=2, sharey=True,\n",
    "                     figsize=(3, 1.5),\n",
    "                     gridspec_kw={\"left\": 0.2, \"bottom\": 0.25, \"top\": 0.95, \"right\": 0.95})\n",
    "\n",
    "bins = np.arange(0, 200, 10)\n",
    "sns.histplot(c_, bins=bins, color=\"dimgrey\", ax=ax1, stat=\"density\")\n",
    "sns.histplot(m_, bins=bins, color=\"silver\", ax=ax2, stat=\"density\")\n",
    "\n",
    "ax1.set_ylabel(\"Density\")\n",
    "ax1.set_yticks([0, 0.01, 0.02])\n",
    "\n",
    "for ax in [ax1, ax2]:\n",
    "    ax.spines[\"top\"].set_visible(False)\n",
    "    ax.spines[\"right\"].set_visible(False)\n",
    "    ax.set_xticks([0, 100, 200])\n",
    "\n",
    "if save_figs:\n",
    "    f.savefig(FIGSFOLDER / \"S1F_lick_length_hist.pdf\", dpi=300)\n",
    "\n",
    "print(np.sum(c_ < 200) / len(c_))\n",
    "print(np.sum(m_ < 200) / len(m_))"
   ]
  },
  {
   "cell_type": "code",
   "execution_count": null,
   "metadata": {},
   "outputs": [
    {
     "name": "stderr",
     "output_type": "stream",
     "text": [
      "c:\\Users\\jmc010\\AppData\\Local\\miniconda3\\Lib\\site-packages\\seaborn\\_oldcore.py:1119: FutureWarning: use_inf_as_na option is deprecated and will be removed in a future version. Convert inf values to NaN before operating instead.\n",
      "  with pd.option_context('mode.use_inf_as_na', True):\n",
      "c:\\Users\\jmc010\\AppData\\Local\\miniconda3\\Lib\\site-packages\\seaborn\\_oldcore.py:1119: FutureWarning: use_inf_as_na option is deprecated and will be removed in a future version. Convert inf values to NaN before operating instead.\n",
      "  with pd.option_context('mode.use_inf_as_na', True):\n"
     ]
    },
    {
     "data": {
      "image/png": "[encoded data removed]",
      "text/plain": [
       "<Figure size 150x150 with 1 Axes>"
      ]
     },
     "metadata": {},
     "output_type": "display_data"
    }
   ],
   "source": [
    "f, ax = plt.subplots(figsize=(1.5, 1.5),\n",
    "                     gridspec_kw={\"left\": 0.35, \"bottom\": 0.25, \"top\": 0.95, \"right\": 0.90})\n",
    "\n",
    "sns.histplot(c_, bins=bins, color=\"black\", ax=ax, linestyle=\"--\",\n",
    "             stat=\"density\", cumulative=True, element=\"poly\", linewidth=1.5, fill=False)\n",
    "\n",
    "sns.histplot(m_, bins=bins, color=\"grey\", ax=ax, linestyle=\"-\",\n",
    "             stat=\"density\", cumulative=True, element=\"poly\", linewidth=1.5, fill=False)\n",
    "\n",
    "ax.set_ylabel(\"Cumulative density\")\n",
    "ax.set_yticks([0, 0.5, 1])\n",
    "ax.set_xticks([0, 100, 200])\n",
    "\n",
    "for spine in [\"top\", \"right\"]:\n",
    "    ax.spines[spine].set_visible(False)\n",
    "\n",
    "if save_figs:\n",
    "    f.savefig(FIGSFOLDER / \"S1G_lick_length_cdf.pdf\", dpi=300)"
   ]
  },
  {
   "cell_type": "code",
   "execution_count": 33,
   "metadata": {},
   "outputs": [
    {
     "data": {
      "text/plain": [
       "TtestResult(statistic=0.6609355718886007, pvalue=0.5142541582354688, df=27)"
      ]
     },
     "execution_count": 33,
     "metadata": {},
     "output_type": "execute_result"
    },
    {
     "data": {
      "image/png": "[encoded data removed]",
      "text/plain": [
       "<Figure size 100x150 with 1 Axes>"
      ]
     },
     "metadata": {},
     "output_type": "display_data"
    }
   ],
   "source": [
    "cas_med = np.array([np.median(c) for c in cas_licklength]) * 1000\n",
    "malt_med = np.array([np.median(m) for m in malt_licklength]) * 1000\n",
    "\n",
    "f, ax = plt.subplots(figsize=(1, 1.5),\n",
    "                     gridspec_kw={\"left\": 0.35, \"bottom\": 0.25, \"top\": 0.92, \"right\": 0.95})\n",
    "\n",
    "sns.boxplot(data=[cas_med, malt_med], ax=ax, palette=colors)\n",
    "\n",
    "ax.set_yticks([40, 60, 80, 100])\n",
    "ax.set_ylabel(\"Median lick length (ms)\")\n",
    "ax.set_xticks([0, 1], labels=[\"Cas\", \"Malt\"])\n",
    "\n",
    "for spine in [\"top\", \"right\"]:\n",
    "    ax.spines[spine].set_visible(False)\n",
    "\n",
    "if save_figs:\n",
    "    f.savefig(FIGSFOLDER / \"S1E_lick_length.pdf\", dpi=300)\n",
    "\n",
    "ttest_rel(cas_med, malt_med)"
   ]
  },
  {
   "cell_type": "markdown",
   "metadata": {},
   "source": [
    "## Panel S1G"
   ]
  },
  {
   "cell_type": "code",
   "execution_count": 34,
   "metadata": {},
   "outputs": [
    {
     "name": "stderr",
     "output_type": "stream",
     "text": [
      "c:\\Users\\jmc010\\AppData\\Local\\miniconda3\\Lib\\site-packages\\trompy\\lickcalc.py:239: RuntimeWarning: invalid value encountered in power\n",
      "  return (np.exp(-(alpha*x)**beta))\n"
     ]
    }
   ],
   "source": [
    "cas_ilis_, malt_ilis_ = [], []\n",
    "for row in df.iterrows():\n",
    "    cas_lickdata_, malt_lickdata_ = get_lickdata(row[1])\n",
    "    \n",
    "    cas_ilis_.append(cas_lickdata_[\"ilis\"])\n",
    "    malt_ilis_.append(malt_lickdata_[\"ilis\"])\n",
    "\n",
    "cas_ilis = np.array([ili for ili in tp.flatten_list(cas_ilis_) if ili < 0.3])*1000\n",
    "malt_ilis = np.array([ili for ili in tp.flatten_list(malt_ilis_) if ili < 0.3])*1000"
   ]
  },
  {
   "cell_type": "code",
   "execution_count": 35,
   "metadata": {},
   "outputs": [
    {
     "name": "stderr",
     "output_type": "stream",
     "text": [
      "c:\\Users\\jmc010\\AppData\\Local\\miniconda3\\Lib\\site-packages\\seaborn\\_oldcore.py:1119: FutureWarning: use_inf_as_na option is deprecated and will be removed in a future version. Convert inf values to NaN before operating instead.\n",
      "  with pd.option_context('mode.use_inf_as_na', True):\n",
      "c:\\Users\\jmc010\\AppData\\Local\\miniconda3\\Lib\\site-packages\\seaborn\\_oldcore.py:1119: FutureWarning: use_inf_as_na option is deprecated and will be removed in a future version. Convert inf values to NaN before operating instead.\n",
      "  with pd.option_context('mode.use_inf_as_na', True):\n"
     ]
    },
    {
     "data": {
      "image/png": "[encoded data removed]",
      "text/plain": [
       "<Figure size 400x200 with 2 Axes>"
      ]
     },
     "metadata": {},
     "output_type": "display_data"
    }
   ],
   "source": [
    "f, [ax1, ax2] = plt.subplots(ncols=2, sharey=True,\n",
    "                     figsize=(4, 2),\n",
    "                     gridspec_kw={\"left\": 0.35, \"bottom\": 0.1, \"top\": 0.95, \"right\": 0.95})\n",
    "\n",
    "bins = np.arange(0, 300, 20)\n",
    "sns.histplot(cas_ilis, bins=bins, color=\"dimgrey\", ax=ax1, stat=\"density\")\n",
    "sns.histplot(malt_ilis, bins=bins, color=\"silver\", ax=ax2, stat=\"density\")\n",
    "\n",
    "ax1.set_ylabel(\"Density\")\n",
    "ax1.set_yticks([0, 0.01, 0.02])\n",
    "\n",
    "for ax in [ax1, ax2]:\n",
    "    ax.spines[\"top\"].set_visible(False)\n",
    "    ax.spines[\"right\"].set_visible(False)\n",
    "    ax.set_xticks([0, 100, 200, 300])\n",
    "\n",
    "if save_figs:\n",
    "    f.savefig(FIGSFOLDER / \"S1F_frequency_hist.pdf\", dpi=300)"
   ]
  },
  {
   "cell_type": "code",
   "execution_count": 36,
   "metadata": {},
   "outputs": [
    {
     "data": {
      "text/plain": [
       "28"
      ]
     },
     "execution_count": 36,
     "metadata": {},
     "output_type": "execute_result"
    }
   ],
   "source": [
    "len(cas_ilis_)"
   ]
  },
  {
   "cell_type": "code",
   "execution_count": 37,
   "metadata": {},
   "outputs": [
    {
     "data": {
      "text/plain": [
       "TtestResult(statistic=1.2607061259148007, pvalue=0.2182008003375665, df=27)"
      ]
     },
     "execution_count": 37,
     "metadata": {},
     "output_type": "execute_result"
    },
    {
     "data": {
      "image/png": "[encoded data removed]",
      "text/plain": [
       "<Figure size 200x200 with 1 Axes>"
      ]
     },
     "metadata": {},
     "output_type": "display_data"
    }
   ],
   "source": [
    "cas_med = np.array([np.median(c) for c in cas_ilis_]) * 1000\n",
    "malt_med = np.array([np.median(m) for m in malt_ilis_]) * 1000\n",
    "\n",
    "f, ax = plt.subplots(figsize=(2, 2),\n",
    "                     gridspec_kw={\"left\": 0.35, \"bottom\": 0.1, \"top\": 0.95, \"right\": 0.95})\n",
    "\n",
    "sns.boxplot(data=[cas_med, malt_med], ax=ax, palette=colors)\n",
    "\n",
    "ax.set_yticks([100, 150, 200])\n",
    "ax.set_ylabel(\"Intraburst frequency (ms)\")\n",
    "ax.set_xticks([0, 1], labels=[\"Cas\", \"Malt\"])\n",
    "\n",
    "for spine in [\"top\", \"right\"]:\n",
    "    ax.spines[spine].set_visible(False)\n",
    "\n",
    "if save_figs:\n",
    "    f.savefig(FIGSFOLDER / \"S1E_intraburst_freq.pdf\", dpi=300)\n",
    "\n",
    "ttest_rel(cas_med, malt_med)"
   ]
  },
  {
   "cell_type": "code",
   "execution_count": null,
   "metadata": {},
   "outputs": [],
   "source": []
  }
 ],
 "metadata": {
  "kernelspec": {
   "display_name": "base",
   "language": "python",
   "name": "python3"
  },
  "language_info": {
   "codemirror_mode": {
    "name": "ipython",
    "version": 3
   },
   "file_extension": ".py",
   "mimetype": "text/x-python",
   "name": "python",
   "nbconvert_exporter": "python",
   "pygments_lexer": "ipython3",
   "version": "3.12.3"
  }
 },
 "nbformat": 4,
 "nbformat_minor": 2
}
