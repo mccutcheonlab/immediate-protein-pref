{
 "cells": [
  {
   "cell_type": "code",
   "execution_count": 2,
   "metadata": {},
   "outputs": [],
   "source": [
    "from pathlib import Path\n",
    "import numpy as np\n",
    "import pandas as pd\n",
    "from scipy.stats import ttest_ind, ttest_rel, ttest_1samp\n",
    "import matplotlib.pyplot as plt\n",
    "import seaborn as sns\n",
    "import pingouin as pg\n",
    "import trompy as tp\n",
    "\n",
    "plt.rcParams['font.family'] = 'Arial'\n",
    "plt.rcParams['pdf.fonttype'] = 42  # Ensure fonts are embedded as Type 3 fonts"
   ]
  },
  {
   "cell_type": "code",
   "execution_count": 3,
   "metadata": {},
   "outputs": [],
   "source": [
    "DATAFOLDER = Path(\"..\\\\data\")\n",
    "FIGSFOLDER = Path(\"..\\\\figures\")\n",
    "FIGSFOLDER = Path(\"C:\\\\Users\\\\jmc010\\\\Dropbox\\\\Publications in Progress\\\\IPP Giulia paper\\\\figs\")\n",
    "\n",
    "save_figs = True\n",
    "\n",
    "def tweak_df(df):\n",
    "\n",
    "    return (df\n",
    "            .query(\"session == 's4'\")\n",
    "            )\n",
    "\n",
    "df = pd.read_excel(DATAFOLDER / \"metafile_ipp.xlsx\", sheet_name=\"metafile Exp 1\")\n",
    "df = tweak_df(df)"
   ]
  },
  {
   "cell_type": "code",
   "execution_count": 4,
   "metadata": {},
   "outputs": [],
   "source": [
    "def get_licks_per_solution(row):\n",
    "    filename = row.medfile\n",
    "    # print(f\"Processing {filename}\")\n",
    "\n",
    "    L, R = tp.medfilereader(DATAFOLDER / filename, vars_to_extract=[\"b\", \"e\"], remove_var_header=True)\n",
    "\n",
    "    if \"malt\" in row.bottleL and \"cas\" in row.bottleR:\n",
    "        med_var_malt, med_var_casein = L, R\n",
    "    elif \"malt\" in row.bottleR and \"cas\" in row.bottleL:\n",
    "        med_var_malt, med_var_casein = R, L\n",
    "    else:\n",
    "        raise ValueError(\"Bottles not found\")\n",
    "    \n",
    "    return med_var_casein, med_var_malt"
   ]
  },
  {
   "cell_type": "markdown",
   "metadata": {},
   "source": [
    "### Panel 2A"
   ]
  },
  {
   "cell_type": "code",
   "execution_count": 5,
   "metadata": {},
   "outputs": [
    {
     "name": "stderr",
     "output_type": "stream",
     "text": [
      "c:\\Users\\jmc010\\AppData\\Local\\miniconda3\\Lib\\site-packages\\trompy\\lickcalc.py:239: RuntimeWarning: invalid value encountered in power\n",
      "  return (np.exp(-(alpha*x)**beta))\n",
      "c:\\Users\\jmc010\\AppData\\Local\\miniconda3\\Lib\\site-packages\\trompy\\lickcalc.py:239: RuntimeWarning: invalid value encountered in power\n",
      "  return (np.exp(-(alpha*x)**beta))\n"
     ]
    }
   ],
   "source": [
    "def get_cluster_number(licks, threshold=0.5):\n",
    "    lickdata = tp.lickCalc(licks, burstThreshold=threshold)\n",
    "    return lickdata[\"bNum\"]\n",
    "\n",
    "# get cluster number\n",
    "PR_cas_cluster_num, PR_malt_cluster_num = [], []\n",
    "for row in df.query(\"dietgroup == 'PR'\").iterrows():\n",
    "    cas_licks, malt_licks = get_licks_per_solution(row[1])\n",
    "    \n",
    "    PR_cas_cluster_num.append(get_cluster_number(cas_licks))\n",
    "    PR_malt_cluster_num.append(get_cluster_number(malt_licks))\n",
    "\n",
    "NR_cas_cluster_num, NR_malt_cluster_num = [], []\n",
    "for row in df.query(\"dietgroup == 'NR'\").iterrows():\n",
    "    cas_licks, malt_licks = get_licks_per_solution(row[1])\n",
    "    \n",
    "    NR_cas_cluster_num.append(get_cluster_number(cas_licks))\n",
    "    NR_malt_cluster_num.append(get_cluster_number(malt_licks))"
   ]
  },
  {
   "cell_type": "code",
   "execution_count": 6,
   "metadata": {},
   "outputs": [
    {
     "data": {
      "image/png": "[encoded data removed]",
      "text/plain": [
       "<Figure size 200x200 with 1 Axes>"
      ]
     },
     "metadata": {},
     "output_type": "display_data"
    }
   ],
   "source": [
    "colors = [\"xkcd:silver\", \"white\", \"xkcd:electric blue\", \"xkcd:powder blue\"]\n",
    "\n",
    "f, ax = plt.subplots(figsize=(2, 2),\n",
    "                     gridspec_kw={\"left\": 0.35, \"bottom\": 0.1, \"top\": 0.95, \"right\": 0.95})\n",
    "\n",
    "tp.barscatter([[NR_cas_cluster_num, NR_malt_cluster_num], [PR_cas_cluster_num, PR_malt_cluster_num],],\n",
    "              ax=ax,\n",
    "              paired=True,\n",
    "              barfacecolor_option=\"individual\",\n",
    "              barfacecolor=colors,\n",
    "              scattersize=40\n",
    "            );\n",
    "\n",
    "ax.set_yticks([0, 100, 200, 300])\n",
    "ax.set_ylabel(\"Clusters\")\n",
    "\n",
    "if save_figs:\n",
    "    f.savefig(FIGSFOLDER / \"2A_cluster number.pdf\", dpi=300)"
   ]
  },
  {
   "cell_type": "code",
   "execution_count": 7,
   "metadata": {},
   "outputs": [
    {
     "name": "stdout",
     "output_type": "stream",
     "text": [
      "        Source            SS  DF1  DF2            MS         F     p-unc  \\\n",
      "0         diet  10017.875000    1   26  10017.875000  2.719527  0.111160   \n",
      "1     solution  22842.160714    1   26  22842.160714  6.122269  0.020195   \n",
      "2  Interaction   4884.446429    1   26   4884.446429  1.309154  0.262973   \n",
      "\n",
      "        np2  eps  \n",
      "0  0.094693  NaN  \n",
      "1  0.190593  1.0  \n",
      "2  0.047938  NaN  \n"
     ]
    }
   ],
   "source": [
    "### Stats\n",
    "data = {\n",
    "    'subject': np.tile(np.arange(1, len(NR_cas_cluster_num) + len(PR_cas_cluster_num) + 1), 2),\n",
    "    'diet': np.tile([\"NR\"] * len(NR_cas_cluster_num) + [\"PR\"] * len(PR_cas_cluster_num), 2),\n",
    "    'solution': np.array([\"cas\"] * (len(NR_cas_cluster_num) + len(PR_cas_cluster_num)) + [\"malt\"] * (len(NR_malt_cluster_num) + len(PR_malt_cluster_num))),\n",
    "    'licks': np.concatenate([NR_cas_cluster_num, PR_cas_cluster_num, NR_malt_cluster_num, PR_malt_cluster_num])\n",
    "}\n",
    "\n",
    "stats_df = pd.DataFrame(data)\n",
    "\n",
    "aov = pg.mixed_anova(data=stats_df, dv='licks', subject='subject', within='solution', between='diet')\n",
    "\n",
    "print(aov)"
   ]
  },
  {
   "cell_type": "code",
   "execution_count": 8,
   "metadata": {},
   "outputs": [
    {
     "name": "stdout",
     "output_type": "stream",
     "text": [
      "NR cas vs NR malt = 0.781 (0.316 before correction))\n",
      "PR cas vs PR malt = 0.134 (0.035 before correction))\n",
      "NR cas vs PR cas = 0.347 (0.101 before correction))\n",
      "NR malt vs PR malt = 0.988 (0.668 before correction))\n"
     ]
    }
   ],
   "source": [
    "## Posthocs\n",
    "\n",
    "ncomps = 4 #because NR vs PR for each solution and cas vs malt for each diet group\n",
    "\n",
    "# solution\n",
    "_, p = ttest_rel(NR_cas_cluster_num, NR_malt_cluster_num)\n",
    "print(\"NR cas vs NR malt = {:.3f} ({:.3f} before correction))\".format(tp.sidakcorr(p, ncomps=ncomps), p))\n",
    "\n",
    "_, p = ttest_rel(PR_cas_cluster_num, PR_malt_cluster_num)\n",
    "print(\"PR cas vs PR malt = {:.3f} ({:.3f} before correction))\".format(tp.sidakcorr(p, ncomps=ncomps), p))\n",
    "\n",
    "# diet\n",
    "_, p = ttest_ind(NR_cas_cluster_num, PR_cas_cluster_num)\n",
    "print(\"NR cas vs PR cas = {:.3f} ({:.3f} before correction))\".format(tp.sidakcorr(p, ncomps=ncomps), p))\n",
    "\n",
    "_, p = ttest_ind(NR_malt_cluster_num, PR_malt_cluster_num)\n",
    "print(\"NR malt vs PR malt = {:.3f} ({:.3f} before correction))\".format(tp.sidakcorr(p, ncomps=ncomps), p))"
   ]
  },
  {
   "cell_type": "markdown",
   "metadata": {},
   "source": [
    "### Panel 2B"
   ]
  },
  {
   "cell_type": "code",
   "execution_count": 9,
   "metadata": {},
   "outputs": [
    {
     "name": "stderr",
     "output_type": "stream",
     "text": [
      "c:\\Users\\jmc010\\AppData\\Local\\miniconda3\\Lib\\site-packages\\trompy\\lickcalc.py:239: RuntimeWarning: invalid value encountered in power\n",
      "  return (np.exp(-(alpha*x)**beta))\n",
      "c:\\Users\\jmc010\\AppData\\Local\\miniconda3\\Lib\\site-packages\\trompy\\lickcalc.py:239: RuntimeWarning: invalid value encountered in power\n",
      "  return (np.exp(-(alpha*x)**beta))\n"
     ]
    }
   ],
   "source": [
    "def get_cluster_size(licks, threshold=0.5):\n",
    "    lickdata = tp.lickCalc(licks, burstThreshold=threshold)\n",
    "    return lickdata[\"bMean\"]\n",
    "\n",
    "# get cluster size\n",
    "PR_cas_cluster_size, PR_malt_cluster_size = [], []\n",
    "for row in df.query(\"dietgroup == 'PR'\").iterrows():\n",
    "    cas_licks, malt_licks = get_licks_per_solution(row[1])\n",
    "    \n",
    "    PR_cas_cluster_size.append(get_cluster_size(cas_licks))\n",
    "    PR_malt_cluster_size.append(get_cluster_size(malt_licks))\n",
    "\n",
    "NR_cas_cluster_size, NR_malt_cluster_size = [], []\n",
    "for row in df.query(\"dietgroup == 'NR'\").iterrows():\n",
    "    cas_licks, malt_licks = get_licks_per_solution(row[1])\n",
    "    \n",
    "    NR_cas_cluster_size.append(get_cluster_size(cas_licks))\n",
    "    NR_malt_cluster_size.append(get_cluster_size(malt_licks))"
   ]
  },
  {
   "cell_type": "code",
   "execution_count": 10,
   "metadata": {},
   "outputs": [
    {
     "data": {
      "image/png": "[encoded data removed]",
      "text/plain": [
       "<Figure size 200x200 with 1 Axes>"
      ]
     },
     "metadata": {},
     "output_type": "display_data"
    }
   ],
   "source": [
    "colors = [\"xkcd:silver\", \"white\", \"xkcd:electric blue\", \"xkcd:powder blue\"]\n",
    "\n",
    "f, ax = plt.subplots(figsize=(2, 2),\n",
    "                     gridspec_kw={\"left\": 0.35, \"bottom\": 0.1, \"top\": 0.95, \"right\": 0.95})\n",
    "\n",
    "tp.barscatter([[NR_cas_cluster_size, NR_malt_cluster_size], [PR_cas_cluster_size, PR_malt_cluster_size],],\n",
    "              ax=ax,\n",
    "              paired=True,\n",
    "              barfacecolor_option=\"individual\",\n",
    "              barfacecolor=colors,\n",
    "              scattersize=40\n",
    "            );\n",
    "\n",
    "ax.set_yticks([0, 20, 40, 60, 80])\n",
    "ax.set_ylabel(\"Cluster size\")\n",
    "\n",
    "if save_figs:\n",
    "    f.savefig(FIGSFOLDER / \"2B_cluster size.pdf\", dpi=300)"
   ]
  },
  {
   "cell_type": "code",
   "execution_count": 11,
   "metadata": {},
   "outputs": [
    {
     "name": "stdout",
     "output_type": "stream",
     "text": [
      "        Source          SS  DF1  DF2          MS         F     p-unc  \\\n",
      "0         diet   77.111697    1   26   77.111697  0.410589  0.527279   \n",
      "1     solution  114.992040    1   26  114.992040  0.777337  0.386035   \n",
      "2  Interaction  574.612166    1   26  574.612166  3.884334  0.059472   \n",
      "\n",
      "        np2  eps  \n",
      "0  0.015546  NaN  \n",
      "1  0.029030  1.0  \n",
      "2  0.129979  NaN  \n"
     ]
    }
   ],
   "source": [
    "### Stats\n",
    "data = {\n",
    "    'subject': np.tile(np.arange(1, len(NR_cas_cluster_size) + len(PR_cas_cluster_size) + 1), 2),\n",
    "    'diet': np.tile([\"NR\"] * len(NR_cas_cluster_size) + [\"PR\"] * len(PR_cas_cluster_size), 2),\n",
    "    'solution': np.array([\"cas\"] * (len(NR_cas_cluster_size) + len(PR_cas_cluster_size)) + [\"malt\"] * (len(NR_malt_cluster_size) + len(PR_malt_cluster_size))),\n",
    "    'licks': np.concatenate([NR_cas_cluster_size, PR_cas_cluster_size, NR_malt_cluster_size, PR_malt_cluster_size])\n",
    "}\n",
    "\n",
    "df_stats = pd.DataFrame(data)\n",
    "\n",
    "aov = pg.mixed_anova(data=df_stats, dv='licks', subject='subject', within='solution', between='diet')\n",
    "\n",
    "print(aov)"
   ]
  },
  {
   "cell_type": "markdown",
   "metadata": {},
   "source": [
    "### Panel 2C"
   ]
  },
  {
   "cell_type": "code",
   "execution_count": 12,
   "metadata": {},
   "outputs": [],
   "source": [
    "# work out preference scores for later correlations\n",
    " \n",
    "NR_pref, PR_pref = [], []\n",
    "for row in df.query(\"dietgroup == 'NR'\").iterrows():\n",
    "    cas_licks, malt_licks = get_licks_per_solution(row[1])\n",
    "\n",
    "    NR_pref.append(len(cas_licks) / (len(cas_licks) + len(malt_licks)))\n",
    "\n",
    "for row in df.query(\"dietgroup == 'PR'\").iterrows():\n",
    "    cas_licks, malt_licks = get_licks_per_solution(row[1])\n",
    "\n",
    "    PR_pref.append(len(cas_licks) / (len(cas_licks) + len(malt_licks)))\n"
   ]
  },
  {
   "cell_type": "code",
   "execution_count": 13,
   "metadata": {},
   "outputs": [
    {
     "name": "stderr",
     "output_type": "stream",
     "text": [
      "c:\\Users\\jmc010\\AppData\\Local\\miniconda3\\Lib\\site-packages\\trompy\\lickcalc.py:239: RuntimeWarning: invalid value encountered in power\n",
      "  return (np.exp(-(alpha*x)**beta))\n"
     ]
    }
   ],
   "source": [
    "def keep_specific_epoch(licks, tmin=0, tmax=3600):\n",
    "    return [lick for lick in licks if tmin <= lick <= tmax]\n",
    "\n",
    "def divide_bursts_into_first_and_third_epoch_byburstnumber(licks):\n",
    "    \n",
    "    lickdata = tp.lickCalc(licks, burstThreshold=0.5, minburstlength=3)\n",
    "    bursts = lickdata[\"bLicks\"]\n",
    "    nbursts = len(bursts)\n",
    "    epoch1 = np.mean(bursts[:nbursts//3])\n",
    "    epoch3 = np.mean(bursts[nbursts//3*2:])\n",
    "    \n",
    "    # epoch1 = np.mean(bursts[1:4])\n",
    "    # epoch3 = np.mean(bursts[-4:-1])\n",
    "\n",
    "    return epoch1, epoch3\n",
    "\n",
    "def divide_bursts_into_first_and_third_epoch_bytimeinsession(licks):\n",
    "    \n",
    "    e1_licks = keep_specific_epoch(licks, tmax=1200)\n",
    "    e3_licks = keep_specific_epoch(licks, tmin=2400)\n",
    "    \n",
    "    epoch_output = []\n",
    "    for epoch in [e1_licks, e3_licks]:\n",
    "        \n",
    "        try:\n",
    "            lickdata = tp.lickCalc(epoch, burstThreshold=0.5, minburstlength=1)\n",
    "            epoch_output.append(lickdata[\"bMean\"])\n",
    "        except:\n",
    "            print(epoch)\n",
    "            epoch_output.append(np.nan)\n",
    "    \n",
    "    return epoch_output[0], epoch_output[1]\n",
    "\n",
    "dietgroup = \"NR\"\n",
    "# get cluster number\n",
    "cas_size_first, cas_size_last = [], []\n",
    "malt_size_first, malt_size_last = [], []\n",
    "for row in df.query(\"dietgroup == @dietgroup\").iterrows():\n",
    "    cas_licks, malt_licks = get_licks_per_solution(row[1])\n",
    "\n",
    "    # c1, c3 = divide_bursts_into_first_and_third_epoch_bytimeinsession(cas_licks)\n",
    "    # cas_size_first.append(c1)\n",
    "    # cas_size_last.append(c3)\n",
    "\n",
    "    # m1, m3 = divide_bursts_into_first_and_third_epoch_bytimeinsession(malt_licks)\n",
    "    # malt_size_first.append(m1)\n",
    "    # malt_size_last.append(m3)\n",
    "    \n",
    "    c1, c3 = divide_bursts_into_first_and_third_epoch_byburstnumber(cas_licks)\n",
    "    cas_size_first.append(c1)\n",
    "    cas_size_last.append(c3)\n",
    "\n",
    "    m1, m3 = divide_bursts_into_first_and_third_epoch_byburstnumber(malt_licks)\n",
    "    malt_size_first.append(m1)\n",
    "    malt_size_last.append(m3)\n",
    "\n",
    "delta_cas = np.array(cas_size_last) / np.array(cas_size_first) * 100\n",
    "delta_malt = np.array(malt_size_last) / np.array(malt_size_first) * 100\n"
   ]
  },
  {
   "cell_type": "code",
   "execution_count": 14,
   "metadata": {},
   "outputs": [],
   "source": [
    "cas1, cas3, malt1, malt3 = [], [], [], []\n",
    "for c1, c3, m1, m3 in zip(cas_size_first, cas_size_last, malt_size_first, malt_size_last):\n",
    "    if np.isnan(c1) or np.isnan(c3) or np.isnan(m1) or np.isnan(m3):\n",
    "        continue\n",
    "    else:\n",
    "        cas1.append(c1)\n",
    "        cas3.append(c3)\n",
    "        malt1.append(m1)\n",
    "        malt3.append(m3)\n",
    "        \n",
    "delta_cas = np.array(cas3) / np.array(cas1) * 100\n",
    "delta_malt = np.array(malt3) / np.array(malt1) * 100\n"
   ]
  },
  {
   "cell_type": "code",
   "execution_count": 15,
   "metadata": {},
   "outputs": [],
   "source": [
    "### Stats\n",
    "# data_nr = {\n",
    "#     'subject': np.tile(np.arange(1, len(cas1) + 1), 4),\n",
    "#     'diet': np.array([\"NR\"] * (len(cas1) * 4)),\n",
    "#     'solution': np.hstack([np.tile(\"cas\",(len(cas1) * 2)), np.tile(\"malt\",(len(cas1) * 2))]),\n",
    "#     'epoch': np.hstack([np.tile(\"first\",(len(cas1))), np.tile(\"third\",(len(cas1))), np.tile(\"first\",(len(cas1))), np.tile(\"third\",(len(cas1)))]),\n",
    "#     'licks': np.concatenate([cas1, cas3, malt1, malt3])\n",
    "# }\n",
    "\n",
    "# df_stats = pd.DataFrame(data)\n",
    "\n",
    "# aov = pg.mixed_anova(data=df_stats, dv='licks', subject='subject', within=['solution', 'epoch'])\n",
    "\n",
    "#print(aov)\n",
    "\n",
    "## Unable to run 3-way ANOVA with pingouin so will run using JASP"
   ]
  },
  {
   "cell_type": "code",
   "execution_count": 16,
   "metadata": {},
   "outputs": [
    {
     "data": {
      "image/png": "[encoded data removed]",
      "text/plain": [
       "<Figure size 200x170 with 1 Axes>"
      ]
     },
     "metadata": {},
     "output_type": "display_data"
    }
   ],
   "source": [
    "cas1, cas3 = cas_size_first, cas_size_last\n",
    "malt1, malt3 = malt_size_first, malt_size_last\n",
    "\n",
    "def sem(data):\n",
    "    return np.std(data) / np.sqrt(len(data))\n",
    "\n",
    "f, ax = plt.subplots(figsize=(2, 1.7),\n",
    "                     gridspec_kw={\"left\": 0.35, \"bottom\": 0.2, \"top\": 0.95, \"right\": 0.90})\n",
    "\n",
    "ax.errorbar([1, 2], [np.mean(cas1), np.mean(cas3)],\n",
    "            yerr=[sem(cas1), sem(cas3)],\n",
    "            fmt=\"o-\", color=\"black\", label=\"Cas\")\n",
    "\n",
    "ax.errorbar([1, 2], [np.mean(malt1), np.mean(malt3)],\n",
    "            yerr=[sem(malt1), sem(malt3)],\n",
    "            fmt=\"o-\", color=\"xkcd:grey\", label=\"Malt\")\n",
    "\n",
    "ax.set_ylim(0,40)\n",
    "ax.set_xlim(0.75, 2.25)\n",
    "ax.set_ylabel(\"Cluster size\")\n",
    "ax.set_xticks([1, 2], labels=[\"1st third\", \"Last third\"])\n",
    "\n",
    "ax.spines['right'].set_visible(False)\n",
    "ax.spines['top'].set_visible(False)\n",
    "\n",
    "if save_figs:\n",
    "    f.savefig(FIGSFOLDER / \"2C-left_cluster size first and last epoch_NR.pdf\", dpi=300)"
   ]
  },
  {
   "cell_type": "markdown",
   "metadata": {},
   "source": [
    "### Panel 2D - left"
   ]
  },
  {
   "cell_type": "code",
   "execution_count": 17,
   "metadata": {},
   "outputs": [
    {
     "name": "stdout",
     "output_type": "stream",
     "text": [
      "Cas: r = -0.039, p = 0.895\n",
      "Malt: r = -0.472, p = 0.089\n"
     ]
    },
    {
     "data": {
      "image/png": "[encoded data removed]",
      "text/plain": [
       "<Figure size 200x170 with 1 Axes>"
      ]
     },
     "metadata": {},
     "output_type": "display_data"
    }
   ],
   "source": [
    "from scipy.stats import linregress\n",
    "\n",
    "f, ax = plt.subplots(figsize=(2, 1.7),\n",
    "                     gridspec_kw={\"left\": 0.35, \"bottom\": 0.25, \"top\": 0.95, \"right\": 0.90})\n",
    "\n",
    "ax.scatter(NR_pref, delta_cas, color=\"black\", label=\"Cas\")\n",
    "ax.scatter(NR_pref, delta_malt, color=\"xkcd:grey\", label=\"Malt\")\n",
    "\n",
    "slope, intercept, r_value, p_value, std_err = linregress(NR_pref, delta_cas)\n",
    "cas_regression = slope * np.array(NR_pref) + intercept\n",
    "print(\"Cas: r = {:.3f}, p = {:.3f}\".format(r_value, p_value))\n",
    "\n",
    "ax.plot(NR_pref, cas_regression, color=\"black\")\n",
    "\n",
    "slope, intercept, r_value, p_value, std_err = linregress(NR_pref, delta_malt)\n",
    "malt_regression = slope * np.array(NR_pref) + intercept\n",
    "print(\"Malt: r = {:.3f}, p = {:.3f}\".format(r_value, p_value))\n",
    "\n",
    "ax.plot(NR_pref, malt_regression, color=\"xkcd:grey\")\n",
    "\n",
    "ax.set_ylim(-100, 430)\n",
    "ax.set_xlim(-0.1, 1.1)\n",
    "ax.set_xticks([0, 0.5, 1])\n",
    "\n",
    "ax.set_ylabel(\"\\u0394 cluster size (%)\")\n",
    "ax.set_xlabel(\"Preference\")\n",
    "\n",
    "ax.spines['right'].set_visible(False)\n",
    "ax.spines['top'].set_visible(False)\n",
    "\n",
    "if save_figs:\n",
    "    f.savefig(FIGSFOLDER / \"2D-left_cluster size vs preference_NR.pdf\", dpi=300)"
   ]
  },
  {
   "cell_type": "code",
   "execution_count": 18,
   "metadata": {},
   "outputs": [
    {
     "name": "stderr",
     "output_type": "stream",
     "text": [
      "c:\\Users\\jmc010\\AppData\\Local\\miniconda3\\Lib\\site-packages\\trompy\\lickcalc.py:239: RuntimeWarning: invalid value encountered in power\n",
      "  return (np.exp(-(alpha*x)**beta))\n"
     ]
    }
   ],
   "source": [
    "dietgroup = \"PR\"\n",
    "# get cluster number\n",
    "cas_size_first, cas_size_last = [], []\n",
    "malt_size_first, malt_size_last = [], []\n",
    "for row in df.query(\"dietgroup == @dietgroup\").iterrows():\n",
    "    cas_licks, malt_licks = get_licks_per_solution(row[1])\n",
    "\n",
    "    c1, c2 = divide_bursts_into_first_and_third_epoch_byburstnumber(cas_licks)\n",
    "    cas_size_first.append(c1)\n",
    "    cas_size_last.append(c2)\n",
    "\n",
    "    m1, m2 = divide_bursts_into_first_and_third_epoch_byburstnumber(malt_licks)\n",
    "    malt_size_first.append(m1)\n",
    "    malt_size_last.append(m2)\n",
    "\n",
    "delta_cas = np.array(cas_size_last) / np.array(cas_size_first) * 100\n",
    "delta_malt = np.array(malt_size_last) / np.array(malt_size_first) * 100"
   ]
  },
  {
   "cell_type": "code",
   "execution_count": 19,
   "metadata": {},
   "outputs": [
    {
     "data": {
      "image/png": "[encoded data removed]",
      "text/plain": [
       "<Figure size 200x170 with 1 Axes>"
      ]
     },
     "metadata": {},
     "output_type": "display_data"
    }
   ],
   "source": [
    "f, ax = plt.subplots(figsize=(2, 1.7),\n",
    "                     gridspec_kw={\"left\": 0.35, \"bottom\": 0.2, \"top\": 0.95, \"right\": 0.90})\n",
    "\n",
    "ax.errorbar([1, 2], [np.mean(cas_size_first), np.mean(cas_size_last)],\n",
    "            yerr=[sem(cas_size_first), sem(cas_size_last)],\n",
    "            fmt=\"o-\", color=\"xkcd:electric blue\", label=\"Cas\")\n",
    "\n",
    "ax.errorbar([1, 2], [np.mean(malt_size_first), np.mean(malt_size_last)],\n",
    "            yerr=[sem(malt_size_first), sem(malt_size_last)],\n",
    "            fmt=\"o-\", color=\"xkcd:powder blue\", label=\"Malt\")\n",
    "\n",
    "ax.set_ylim(0,40)\n",
    "ax.set_xlim(0.75, 2.25)\n",
    "ax.set_ylabel(\"Cluster size\")\n",
    "ax.set_xticks([1, 2], labels=[\"1st third\", \"Last third\"])\n",
    "\n",
    "ax.spines['right'].set_visible(False)\n",
    "ax.spines['top'].set_visible(False)\n",
    "\n",
    "if save_figs:\n",
    "    f.savefig(FIGSFOLDER / \"2C-right_cluster size first and last epoch_PR.pdf\", dpi=300)"
   ]
  },
  {
   "cell_type": "code",
   "execution_count": 20,
   "metadata": {},
   "outputs": [
    {
     "name": "stdout",
     "output_type": "stream",
     "text": [
      "Cas: r = 0.537, p = 0.048\n",
      "Malt: r = 0.280, p = 0.332\n"
     ]
    },
    {
     "data": {
      "image/png": "[encoded data removed]",
      "text/plain": [
       "<Figure size 200x170 with 1 Axes>"
      ]
     },
     "metadata": {},
     "output_type": "display_data"
    }
   ],
   "source": [
    "from scipy.stats import linregress\n",
    "\n",
    "f, ax = plt.subplots(figsize=(2, 1.7),\n",
    "                     gridspec_kw={\"left\": 0.35, \"bottom\": 0.25, \"top\": 0.95, \"right\": 0.90})\n",
    "\n",
    "ax.scatter(PR_pref, delta_cas, color=\"xkcd:electric blue\", label=\"Cas\")\n",
    "ax.scatter(PR_pref, delta_malt, color=\"xkcd:powder blue\", label=\"Malt\")\n",
    "\n",
    "slope, intercept, r_value, p_value, std_err = linregress(PR_pref, delta_cas)\n",
    "cas_regression = slope * np.array(PR_pref) + intercept\n",
    "print(\"Cas: r = {:.3f}, p = {:.3f}\".format(r_value, p_value))\n",
    "\n",
    "ax.plot(PR_pref, cas_regression, color=\"xkcd:electric blue\")\n",
    "\n",
    "slope, intercept, r_value, p_value, std_err = linregress(PR_pref, delta_malt)\n",
    "malt_regression = slope * np.array(PR_pref) + intercept\n",
    "print(\"Malt: r = {:.3f}, p = {:.3f}\".format(r_value, p_value))\n",
    "\n",
    "ax.plot(PR_pref, malt_regression, color=\"xkcd:powder blue\")\n",
    "\n",
    "ax.set_ylim(-100, 430)\n",
    "ax.set_xlim(-0.1, 1.1)\n",
    "ax.set_xticks([0, 0.5, 1])\n",
    "\n",
    "ax.set_ylabel(\"\\u0394 cluster size (%)\")\n",
    "ax.set_xlabel(\"Preference\")\n",
    "\n",
    "ax.spines['right'].set_visible(False)\n",
    "ax.spines['top'].set_visible(False)\n",
    "\n",
    "if save_figs:\n",
    "    f.savefig(FIGSFOLDER / \"2D-right_cluster size first and last epoch_PR.pdf\", dpi=300)"
   ]
  },
  {
   "cell_type": "code",
   "execution_count": null,
   "metadata": {},
   "outputs": [],
   "source": []
  }
 ],
 "metadata": {
  "kernelspec": {
   "display_name": "base",
   "language": "python",
   "name": "python3"
  },
  "language_info": {
   "codemirror_mode": {
    "name": "ipython",
    "version": 3
   },
   "file_extension": ".py",
   "mimetype": "text/x-python",
   "name": "python",
   "nbconvert_exporter": "python",
   "pygments_lexer": "ipython3",
   "version": "3.12.3"
  }
 },
 "nbformat": 4,
 "nbformat_minor": 4
}
