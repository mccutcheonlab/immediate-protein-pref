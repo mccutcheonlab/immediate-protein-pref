{
 "cells": [
  {
   "cell_type": "code",
   "execution_count": 1,
   "metadata": {},
   "outputs": [],
   "source": [
    "from pathlib import Path\n",
    "import numpy as np\n",
    "import pandas as pd\n",
    "import matplotlib.pyplot as plt\n",
    "import seaborn as sns\n",
    "import trompy as tp"
   ]
  },
  {
   "cell_type": "code",
   "execution_count": 2,
   "metadata": {},
   "outputs": [],
   "source": [
    "DATAFOLDER = Path(\"..\\\\data\")\n",
    "FIGSFOLDER = Path(\"..\\\\figures\")\n",
    "FIGSFOLDER = Path(\"C:\\\\Users\\\\jmc010\\\\Dropbox\\\\Publications in Progress\\\\IPP Giulia paper\\\\figs\")\n",
    "\n",
    "def tweak_df(df):\n",
    "\n",
    "    return (df\n",
    "            .query(\"session == 's4'\")\n",
    "            )\n",
    "\n",
    "df = pd.read_excel(DATAFOLDER / \"metafile_ipp.xlsx\", sheet_name=\"metafile Exp 1\")\n",
    "df = tweak_df(df)"
   ]
  },
  {
   "cell_type": "markdown",
   "metadata": {},
   "source": [
    "## Panel A"
   ]
  },
  {
   "cell_type": "code",
   "execution_count": 3,
   "metadata": {},
   "outputs": [],
   "source": [
    "def get_licks_per_solution(row):\n",
    "    filename = row.medfile\n",
    "    # print(f\"Processing {filename}\")\n",
    "\n",
    "    L, R = tp.medfilereader(DATAFOLDER / filename, vars_to_extract=[\"b\", \"e\"], remove_var_header=True)\n",
    "\n",
    "    if \"malt\" in row.bottleL and \"cas\" in row.bottleR:\n",
    "        med_var_malt, med_var_casein = L, R\n",
    "    elif \"malt\" in row.bottleR and \"cas\" in row.bottleL:\n",
    "        med_var_malt, med_var_casein = R, L\n",
    "    else:\n",
    "        raise ValueError(\"Bottles not found\")\n",
    "    \n",
    "    return med_var_casein, med_var_malt"
   ]
  },
  {
   "cell_type": "code",
   "execution_count": 4,
   "metadata": {},
   "outputs": [],
   "source": [
    "PR_cas, PR_malt = [], []\n",
    "for row in df.query(\"dietgroup == 'PR'\").iterrows():\n",
    "    cas_licks, malt_licks = get_licks_per_solution(row[1])\n",
    "    \n",
    "    PR_cas.append(len(cas_licks))\n",
    "    PR_malt.append(len(malt_licks))\n",
    "\n",
    "NR_cas, NR_malt = [], []\n",
    "for row in df.query(\"dietgroup == 'NR'\").iterrows():\n",
    "    cas_licks, malt_licks = get_licks_per_solution(row[1])\n",
    "    \n",
    "    NR_cas.append(len(cas_licks))\n",
    "    NR_malt.append(len(malt_licks))"
   ]
  },
  {
   "cell_type": "code",
   "execution_count": 5,
   "metadata": {},
   "outputs": [
    {
     "data": {
      "image/png": "[encoded data removed]",
      "text/plain": [
       "<Figure size 200x200 with 1 Axes>"
      ]
     },
     "metadata": {},
     "output_type": "display_data"
    }
   ],
   "source": [
    "colors = [\"xkcd:silver\", \"white\", \"xkcd:electric blue\", \"xkcd:powder blue\"]\n",
    "\n",
    "f, ax = plt.subplots(figsize=(2, 2),\n",
    "                     gridspec_kw={\"left\": 0.35, \"bottom\": 0.1, \"top\": 0.95, \"right\": 0.95})\n",
    "\n",
    "tp.barscatter([[NR_cas, NR_malt], [PR_cas, PR_malt],],\n",
    "              ax=ax,\n",
    "              paired=True,\n",
    "              barfacecolor_option=\"individual\",\n",
    "              barfacecolor=colors,\n",
    "              scattersize=40\n",
    "            );\n",
    "\n",
    "ax.set_yticks([0, 2000, 4000, 6000])\n",
    "ax.set_ylabel(\"Licks\")\n",
    "\n",
    "f.savefig(FIGSFOLDER / \"1A_licks_per_solution.pdf\", dpi=300)\n"
   ]
  },
  {
   "cell_type": "markdown",
   "metadata": {},
   "source": [
    "### Panel B"
   ]
  },
  {
   "cell_type": "code",
   "execution_count": 6,
   "metadata": {},
   "outputs": [
    {
     "data": {
      "image/png": "[encoded data removed]",
      "text/plain": [
       "<Figure size 140x200 with 1 Axes>"
      ]
     },
     "metadata": {},
     "output_type": "display_data"
    }
   ],
   "source": [
    "np.random.seed(41)\n",
    "\n",
    "def jitter(x, n, spread=0.1):\n",
    "    return x + np.random.normal(0, spread, n)\n",
    "\n",
    "PR_pref = np.array(PR_cas) / (np.array(PR_cas) + np.array(PR_malt))\n",
    "NR_pref = np.array(NR_cas) / (np.array(NR_cas) + np.array(NR_malt))\n",
    "\n",
    "f, ax = plt.subplots(figsize=(1.4, 2),\n",
    "                     gridspec_kw={\"left\": 0.4, \"bottom\": 0.1, \"top\": 0.95, \"right\": 0.95})\n",
    "\n",
    "ax.bar( 0, np.mean(NR_pref), color=colors[0])\n",
    "ax.bar( 1, np.mean(PR_pref), color=colors[2])\n",
    "\n",
    "ax.scatter(jitter(0, len(NR_pref)), NR_pref, color=\"white\", edgecolor=\"grey\")\n",
    "ax.scatter(jitter(1, len(PR_pref)), PR_pref, color=\"white\", edgecolor=\"grey\")\n",
    "\n",
    "ax.set_ylim(0, 1.1)\n",
    "ax.set_xlim(-0.55, 1.55)\n",
    "ax.set_yticks([0, 0.5, 1])\n",
    "ax.set_xticks([0, 1], labels=[\"NR\", \"PR\"])\n",
    "\n",
    "ax.spines[\"top\"].set_visible(False)\n",
    "ax.spines[\"right\"].set_visible(False)\n",
    "\n",
    "ax.tick_params(axis='x', which='both', length=0)\n",
    "\n",
    "ax.set_ylabel(\"Protein preference\")\n",
    "\n",
    "f.savefig(FIGSFOLDER / \"1B_protein_preference.pdf\", dpi=300)"
   ]
  },
  {
   "cell_type": "markdown",
   "metadata": {},
   "source": [
    "### Panels C and D"
   ]
  },
  {
   "cell_type": "code",
   "execution_count": 7,
   "metadata": {},
   "outputs": [],
   "source": [
    "def make_protein_pref_heatmap(casein_licks, malt_licks, bins):\n",
    "\n",
    "    casein_hist = np.histogram(casein_licks, bins=bins)[0]\n",
    "    malt_lickdata = np.histogram(malt_licks, bins=bins)[0]\n",
    "\n",
    "    casein_cumsum = np.cumsum(casein_hist)\n",
    "    malt_cumsum = np.cumsum(malt_lickdata)\n",
    "\n",
    "    preference_cumsum = []\n",
    "    for casbin, maltbin in zip(casein_cumsum, malt_cumsum):\n",
    "        preference_cumsum.append(casbin/(maltbin+casbin))\n",
    "\n",
    "    return preference_cumsum\n",
    "\n",
    "def get_heatmap_data_from_row(row, **kwargs):\n",
    "    \n",
    "    casein_licks, malt_licks = get_licks_per_solution(row)\n",
    "\n",
    "    if \"bins\" in kwargs:\n",
    "        bins = kwargs[\"bins\"]\n",
    "    else:\n",
    "        bins = np.linspace(0,3600, 13)\n",
    "    \n",
    "    data = make_protein_pref_heatmap(casein_licks, malt_licks, bins)\n",
    "\n",
    "    return data\n",
    "\n",
    "# get_heatmap_data_from_row(df.iloc[0], bins=np.linspace(0,3600, 61))"
   ]
  },
  {
   "cell_type": "code",
   "execution_count": 8,
   "metadata": {},
   "outputs": [],
   "source": [
    "bins=np.linspace(0,3600, 13)\n",
    "\n",
    "PR_data = []\n",
    "for row in df.query(\"dietgroup == 'PR'\").iterrows():\n",
    "    data = get_heatmap_data_from_row(row[1], bins=bins)\n",
    "    PR_data.append(data)\n",
    "\n",
    "NR_data = []\n",
    "for row in df.query(\"dietgroup == 'NR'\").iterrows():\n",
    "    data = get_heatmap_data_from_row(row[1], bins=bins)\n",
    "    NR_data.append(data)\n"
   ]
  },
  {
   "cell_type": "code",
   "execution_count": 9,
   "metadata": {},
   "outputs": [
    {
     "data": {
      "image/png": "[encoded data removed]",
      "text/plain": [
       "<Figure size 480x100 with 3 Axes>"
      ]
     },
     "metadata": {},
     "output_type": "display_data"
    }
   ],
   "source": [
    "def sort_by_last_value(data):\n",
    "    data = np.array(data)\n",
    "    return data[np.argsort(data[:, -1])]\n",
    "\n",
    "PR_data_to_plot = sort_by_last_value(PR_data)\n",
    "NR_data_to_plot = sort_by_last_value(NR_data)\n",
    "\n",
    "def make_heatmap_fig(data, ax, cbar_ax=False, show_x_axis=True, **kwargs):\n",
    "    \n",
    "    if cbar_ax:\n",
    "        sns.heatmap(data, ax=ax,\n",
    "                    cmap=\"coolwarm\",\n",
    "                    vmin=0, vmax=1,\n",
    "                    cbar_ax=cbar_ax\n",
    "                    )\n",
    "        \n",
    "            # Rotate the colorbar label\n",
    "        # cbar = cbar_ax.collections[0].colorbar\n",
    "        # cbar.set_label('Protein preference', rotation=270, labelpad=15)\n",
    "        \n",
    "        ax3.set_ylabel('Protein pref.', rotation=270, labelpad=15)\n",
    "        ax3.set_yticks([0, 0.5, 1])\n",
    "        ax3.tick_params(axis='y', which='both', length=0)\n",
    "        \n",
    "    else:\n",
    "        sns.heatmap(data, ax=ax,\n",
    "                cmap=\"coolwarm\",\n",
    "                vmin=0, vmax=1,\n",
    "                cbar=False\n",
    "                )\n",
    "\n",
    "    ax.invert_yaxis()\n",
    "    ax.set_yticks([])\n",
    "\n",
    "    ticks = np.linspace(0, data.shape[1], 7)\n",
    "    \n",
    "    if show_x_axis:\n",
    "\n",
    "        ax.set_xticks(ticks,\n",
    "                    labels=[0, 10, 20, 30, 40, 50, 60],\n",
    "                    rotation=0)\n",
    "        ax.set_xlabel(\"Time (min)\")\n",
    "        \n",
    "    else:\n",
    "        ax.set_xticks([])\n",
    "\n",
    "f, [ax1, ax2, ax3] = plt.subplots(ncols=3, figsize=(4.8,1),\n",
    "                                  gridspec_kw={\"width_ratios\": [1, 1, 0.1],\n",
    "                                               \"left\": 0.15, \"bottom\": 0.1, \"top\": 0.95, \"right\": 0.8}\n",
    "                                  )\n",
    "\n",
    "make_heatmap_fig(NR_data_to_plot, ax1, cbar_ax=False, show_x_axis=False)\n",
    "make_heatmap_fig(PR_data_to_plot, ax2, cbar_ax=ax3, show_x_axis=False)\n",
    "\n",
    "f.savefig(FIGSFOLDER / \"1C_heatmaps.pdf\", dpi=300)"
   ]
  },
  {
   "cell_type": "markdown",
   "metadata": {},
   "source": [
    "### Panels E and F"
   ]
  },
  {
   "cell_type": "code",
   "execution_count": 10,
   "metadata": {},
   "outputs": [],
   "source": [
    "def get_cumsum_licks(licks, bins=np.linspace(0, 3600, 61)):\n",
    "    hist = np.histogram(licks, bins=bins)[0]\n",
    "    return np.cumsum(hist)\n",
    "\n",
    "bins=np.linspace(0, 3600, 61)\n",
    "\n",
    "PR_cas, PR_malt = [], []\n",
    "for row in df.query(\"dietgroup == 'PR'\").iterrows():\n",
    "    cas_licks, malt_licks = get_licks_per_solution(row[1])\n",
    "    \n",
    "    PR_cas.append(get_cumsum_licks(cas_licks))\n",
    "    PR_malt.append(get_cumsum_licks(malt_licks))\n",
    "\n",
    "NR_cas, NR_malt = [], []\n",
    "for row in df.query(\"dietgroup == 'NR'\").iterrows():\n",
    "    cas_licks, malt_licks = get_licks_per_solution(row[1])\n",
    "    \n",
    "    NR_cas.append(get_cumsum_licks(cas_licks))\n",
    "    NR_malt.append(get_cumsum_licks(malt_licks))\n",
    "    \n",
    "PR_cas = np.array(PR_cas)\n",
    "PR_malt = np.array(PR_malt)\n",
    "NR_cas = np.array(NR_cas)\n",
    "NR_malt = np.array(NR_malt)"
   ]
  },
  {
   "cell_type": "code",
   "execution_count": 11,
   "metadata": {},
   "outputs": [
    {
     "data": {
      "image/png": "[encoded data removed]",
      "text/plain": [
       "<Figure size 480x200 with 3 Axes>"
      ]
     },
     "metadata": {},
     "output_type": "display_data"
    }
   ],
   "source": [
    "def make_cumsum_fig(cas_licks, malt_licks, bins, colors, ax):\n",
    "    \n",
    "    cas_sem = np.std(cas_licks, axis=0) / np.sqrt(cas_licks.shape[0])\n",
    "    malt_sem = np.std(malt_licks, axis=0) / np.sqrt(malt_licks.shape[0])\n",
    "    \n",
    "    ax.fill_between(bins[:-1], np.mean(cas_licks, axis=0)-cas_sem, np.mean(cas_licks, axis=0)+cas_sem, color=colors[0], alpha=0.5)\n",
    "    ax.plot(bins[:-1], np.mean(cas_licks, axis=0), color=colors[1], label=\"Casein\")\n",
    "\n",
    "    ax.fill_between(bins[:-1], np.mean(malt_licks, axis=0)-malt_sem, np.mean(malt_licks, axis=0)+malt_sem, color=colors[0], alpha=0.5)\n",
    "    ax.plot(bins[:-1], np.mean(malt_licks, axis=0), color=colors[2], label=\"Maltodextrin\")\n",
    "    \n",
    "    \n",
    "\n",
    "f, [ax1, ax2, ax3] = plt.subplots(ncols=3, figsize=(4.8,2),\n",
    "                                  sharey=True,\n",
    "                                  gridspec_kw={\"width_ratios\": [1, 1, 0.1],\n",
    "                                               \"left\": 0.15, \"bottom\": 0.21, \"top\": 0.95, \"right\": 0.8}\n",
    "                                  )\n",
    "\n",
    "colors_NR = [\"xkcd:silver\", \"black\", \"xkcd:grey\"]\n",
    "colors_PR = [\"xkcd:silver\", \"xkcd:electric blue\", \"xkcd:powder blue\"]\n",
    "\n",
    "make_cumsum_fig(NR_cas, NR_malt, bins, colors_NR, ax1)\n",
    "make_cumsum_fig(PR_cas, PR_malt, bins, colors_PR, ax2)\n",
    "\n",
    "for ax in [ax1, ax2]:\n",
    "    ax.set_xlim(-200, 3600)\n",
    "    ax.set_xticks([0, 1800, 3600], labels=[0, 30, 60])\n",
    "    ax.set_xlabel(\"Time (min)\")\n",
    "    \n",
    "    ax.spines[\"top\"].set_visible(False)\n",
    "    ax.spines[\"right\"].set_visible(False)\n",
    "\n",
    "ax1.set_ylabel(\"Cumulative licks\")\n",
    "\n",
    "ax3.axis(\"off\")\n",
    "\n",
    "f.savefig(FIGSFOLDER / \"1D_cumulative_licks.pdf\", dpi=300)\n"
   ]
  },
  {
   "cell_type": "code",
   "execution_count": null,
   "metadata": {},
   "outputs": [],
   "source": []
  },
  {
   "cell_type": "code",
   "execution_count": null,
   "metadata": {},
   "outputs": [],
   "source": []
  }
 ],
 "metadata": {
  "kernelspec": {
   "display_name": "base",
   "language": "python",
   "name": "python3"
  },
  "language_info": {
   "codemirror_mode": {
    "name": "ipython",
    "version": 3
   },
   "file_extension": ".py",
   "mimetype": "text/x-python",
   "name": "python",
   "nbconvert_exporter": "python",
   "pygments_lexer": "ipython3",
   "version": "3.9.16"
  }
 },
 "nbformat": 4,
 "nbformat_minor": 2
}
