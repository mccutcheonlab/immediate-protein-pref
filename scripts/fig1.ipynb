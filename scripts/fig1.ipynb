{
 "cells": [
  {
   "cell_type": "code",
   "execution_count": 34,
   "metadata": {},
   "outputs": [],
   "source": [
    "from pathlib import Path\n",
    "import numpy as np\n",
    "import pandas as pd\n",
    "from scipy.stats import ttest_ind, ttest_rel, ttest_1samp\n",
    "import matplotlib.pyplot as plt\n",
    "import seaborn as sns\n",
    "import pingouin as pg\n",
    "import trompy as tp\n",
    "\n",
    "plt.rcParams['font.family'] = 'Arial'\n",
    "plt.rcParams['pdf.fonttype'] = 42  # Ensure fonts are embedded as Type 3 fonts"
   ]
  },
  {
   "cell_type": "code",
   "execution_count": 35,
   "metadata": {},
   "outputs": [],
   "source": [
    "DATAFOLDER = Path(\"..\\\\data\")\n",
    "FIGSFOLDER = Path(\"..\\\\figures\")\n",
    "FIGSFOLDER = Path(\"C:\\\\Users\\\\jmc010\\\\Dropbox\\\\Publications in Progress\\\\IPP Giulia paper\\\\figs\")\n",
    "\n",
    "save_figs = True\n",
    "\n",
    "def tweak_df(df):\n",
    "\n",
    "    return (df\n",
    "            .query(\"session == 's4'\")\n",
    "            )\n",
    "\n",
    "df = pd.read_excel(DATAFOLDER / \"metafile_ipp.xlsx\", sheet_name=\"metafile Exp 1\")\n",
    "df = tweak_df(df)"
   ]
  },
  {
   "cell_type": "markdown",
   "metadata": {},
   "source": [
    "## Panel A"
   ]
  },
  {
   "cell_type": "code",
   "execution_count": 36,
   "metadata": {},
   "outputs": [],
   "source": [
    "def get_licks_per_solution(row):\n",
    "    filename = row.medfile\n",
    "    # print(f\"Processing {filename}\")\n",
    "\n",
    "    L, R = tp.medfilereader(DATAFOLDER / filename, vars_to_extract=[\"b\", \"e\"], remove_var_header=True)\n",
    "\n",
    "    if \"malt\" in row.bottleL and \"cas\" in row.bottleR:\n",
    "        med_var_malt, med_var_casein = L, R\n",
    "    elif \"malt\" in row.bottleR and \"cas\" in row.bottleL:\n",
    "        med_var_malt, med_var_casein = R, L\n",
    "    else:\n",
    "        raise ValueError(\"Bottles not found\")\n",
    "    \n",
    "    return med_var_casein, med_var_malt"
   ]
  },
  {
   "cell_type": "code",
   "execution_count": 37,
   "metadata": {},
   "outputs": [],
   "source": [
    "PR_cas, PR_malt = [], []\n",
    "for row in df.query(\"dietgroup == 'PR'\").iterrows():\n",
    "    cas_licks, malt_licks = get_licks_per_solution(row[1])\n",
    "    \n",
    "    PR_cas.append(len(cas_licks))\n",
    "    PR_malt.append(len(malt_licks))\n",
    "\n",
    "NR_cas, NR_malt = [], []\n",
    "for row in df.query(\"dietgroup == 'NR'\").iterrows():\n",
    "    cas_licks, malt_licks = get_licks_per_solution(row[1])\n",
    "    \n",
    "    NR_cas.append(len(cas_licks))\n",
    "    NR_malt.append(len(malt_licks))"
   ]
  },
  {
   "cell_type": "code",
   "execution_count": 38,
   "metadata": {},
   "outputs": [
    {
     "data": {
      "image/png": "[encoded data removed]",
      "text/plain": [
       "<Figure size 200x200 with 1 Axes>"
      ]
     },
     "metadata": {},
     "output_type": "display_data"
    }
   ],
   "source": [
    "colors = [\"xkcd:silver\", \"white\", \"xkcd:electric blue\", \"xkcd:powder blue\"]\n",
    "\n",
    "f, ax = plt.subplots(figsize=(2, 2),\n",
    "                     gridspec_kw={\"left\": 0.35, \"bottom\": 0.1, \"top\": 0.95, \"right\": 0.95})\n",
    "\n",
    "tp.barscatter([[NR_cas, NR_malt], [PR_cas, PR_malt],],\n",
    "              ax=ax,\n",
    "              paired=True,\n",
    "              barfacecolor_option=\"individual\",\n",
    "              barfacecolor=colors,\n",
    "              scattersize=40\n",
    "            );\n",
    "\n",
    "ax.set_yticks([0, 2000, 4000, 6000])\n",
    "ax.set_ylabel(\"Licks\")\n",
    "\n",
    "if save_figs:\n",
    "    f.savefig(FIGSFOLDER / \"1A_licks_per_solution.pdf\", dpi=300)"
   ]
  },
  {
   "cell_type": "code",
   "execution_count": 39,
   "metadata": {},
   "outputs": [
    {
     "name": "stdout",
     "output_type": "stream",
     "text": [
      "        Source            SS  DF1  DF2            MS         F     p-unc  \\\n",
      "0         diet  3.462600e+06    1   26  3.462600e+06  2.014220  0.167710   \n",
      "1     solution  1.119199e+07    1   26  1.119199e+07  5.667853  0.024893   \n",
      "2  Interaction  1.133550e+07    1   26  1.133550e+07  5.740531  0.024067   \n",
      "\n",
      "        np2  eps  \n",
      "0  0.071900  NaN  \n",
      "1  0.178978  1.0  \n",
      "2  0.180858  NaN  \n"
     ]
    }
   ],
   "source": [
    "### Stats\n",
    "data = {\n",
    "    'subject': np.tile(np.arange(1, len(NR_cas) + len(PR_cas) + 1), 2),\n",
    "    'diet': np.tile([\"NR\"] * len(NR_cas) + [\"PR\"] * len(PR_cas), 2),\n",
    "    'solution': np.array([\"cas\"] * (len(NR_cas) + len(PR_cas)) + [\"malt\"] * (len(NR_malt) + len(PR_malt))),\n",
    "    'licks': np.concatenate([NR_cas, PR_cas, NR_malt, PR_malt])\n",
    "}\n",
    "\n",
    "df_stats = pd.DataFrame(data)\n",
    "\n",
    "aov = pg.mixed_anova(data=df_stats, dv='licks', subject='subject', within='solution', between='diet')\n",
    "\n",
    "print(aov)"
   ]
  },
  {
   "cell_type": "code",
   "execution_count": 40,
   "metadata": {},
   "outputs": [
    {
     "name": "stdout",
     "output_type": "stream",
     "text": [
      "NR cas vs NR malt = 1.000 (0.991 before correction))\n",
      "PR cas vs PR malt = 0.029 (0.007 before correction))\n",
      "NR cas vs PR cas = 0.102 (0.026 before correction))\n",
      "NR malt vs PR malt = 0.816 (0.345 before correction))\n"
     ]
    }
   ],
   "source": [
    "## Posthocs\n",
    "\n",
    "ncomps = 4 #because NR vs PR for each solution and cas vs malt for each diet group\n",
    "\n",
    "# solution\n",
    "_, p = ttest_rel(NR_cas, NR_malt)\n",
    "print(\"NR cas vs NR malt = {:.3f} ({:.3f} before correction))\".format(tp.sidakcorr(p, ncomps=ncomps), p))\n",
    "\n",
    "_, p = ttest_rel(PR_cas, PR_malt)\n",
    "print(\"PR cas vs PR malt = {:.3f} ({:.3f} before correction))\".format(tp.sidakcorr(p, ncomps=ncomps), p))\n",
    "\n",
    "# diet\n",
    "_, p = ttest_ind(NR_cas, PR_cas)\n",
    "print(\"NR cas vs PR cas = {:.3f} ({:.3f} before correction))\".format(tp.sidakcorr(p, ncomps=ncomps), p))\n",
    "\n",
    "_, p = ttest_ind(NR_malt, PR_malt)\n",
    "print(\"NR malt vs PR malt = {:.3f} ({:.3f} before correction))\".format(tp.sidakcorr(p, ncomps=ncomps), p))\n"
   ]
  },
  {
   "cell_type": "markdown",
   "metadata": {},
   "source": [
    "### Panel B"
   ]
  },
  {
   "cell_type": "code",
   "execution_count": 41,
   "metadata": {},
   "outputs": [
    {
     "data": {
      "image/png": "[encoded data removed]",
      "text/plain": [
       "<Figure size 140x200 with 1 Axes>"
      ]
     },
     "metadata": {},
     "output_type": "display_data"
    }
   ],
   "source": [
    "np.random.seed(41)\n",
    "\n",
    "def jitter(x, n, spread=0.1):\n",
    "    return x + np.random.normal(0, spread, n)\n",
    "\n",
    "PR_pref = np.array(PR_cas) / (np.array(PR_cas) + np.array(PR_malt))\n",
    "NR_pref = np.array(NR_cas) / (np.array(NR_cas) + np.array(NR_malt))\n",
    "\n",
    "f, ax = plt.subplots(figsize=(1.4, 2),\n",
    "                     gridspec_kw={\"left\": 0.4, \"bottom\": 0.1, \"top\": 0.95, \"right\": 0.95})\n",
    "\n",
    "ax.bar( 0, np.mean(NR_pref), color=colors[0])\n",
    "ax.bar( 1, np.mean(PR_pref), color=colors[2])\n",
    "\n",
    "ax.scatter(jitter(0, len(NR_pref)), NR_pref, color=\"white\", edgecolor=\"grey\")\n",
    "ax.scatter(jitter(1, len(PR_pref)), PR_pref, color=\"white\", edgecolor=\"grey\")\n",
    "\n",
    "ax.set_ylim(0, 1.1)\n",
    "ax.set_xlim(-0.55, 1.55)\n",
    "ax.set_yticks([0, 0.5, 1])\n",
    "ax.set_xticks([0, 1], labels=[\"NR\", \"PR\"])\n",
    "\n",
    "ax.spines[\"top\"].set_visible(False)\n",
    "ax.spines[\"right\"].set_visible(False)\n",
    "\n",
    "ax.tick_params(axis='x', which='both', length=0)\n",
    "\n",
    "ax.set_ylabel(\"Protein preference\")\n",
    "\n",
    "if save_figs:\n",
    "    f.savefig(FIGSFOLDER / \"1B_protein_preference.pdf\", dpi=300)"
   ]
  },
  {
   "cell_type": "code",
   "execution_count": 42,
   "metadata": {},
   "outputs": [
    {
     "name": "stdout",
     "output_type": "stream",
     "text": [
      "NR preference: t=0.085, p=0.934\n",
      "PR preference: t=3.013, p=0.010\n"
     ]
    }
   ],
   "source": [
    "## Statistics\n",
    "t, p = ttest_1samp(NR_pref, 0.5)\n",
    "print(\"NR preference: t={:.3f}, p={:.3f}\".format(t, p))\n",
    "\n",
    "t, p = ttest_1samp(PR_pref, 0.5)\n",
    "print(\"PR preference: t={:.3f}, p={:.3f}\".format(t, p))"
   ]
  },
  {
   "cell_type": "markdown",
   "metadata": {},
   "source": [
    "### Panels C and D"
   ]
  },
  {
   "cell_type": "code",
   "execution_count": 43,
   "metadata": {},
   "outputs": [],
   "source": [
    "def make_protein_pref_heatmap(casein_licks, malt_licks, bins):\n",
    "\n",
    "    casein_hist = np.histogram(casein_licks, bins=bins)[0]\n",
    "    malt_lickdata = np.histogram(malt_licks, bins=bins)[0]\n",
    "\n",
    "    casein_cumsum = np.cumsum(casein_hist)\n",
    "    malt_cumsum = np.cumsum(malt_lickdata)\n",
    "\n",
    "    preference_cumsum = []\n",
    "    for casbin, maltbin in zip(casein_cumsum, malt_cumsum):\n",
    "        preference_cumsum.append(casbin/(maltbin+casbin))\n",
    "\n",
    "    return preference_cumsum\n",
    "\n",
    "def get_heatmap_data_from_row(row, **kwargs):\n",
    "    \n",
    "    casein_licks, malt_licks = get_licks_per_solution(row)\n",
    "\n",
    "    if \"bins\" in kwargs:\n",
    "        bins = kwargs[\"bins\"]\n",
    "    else:\n",
    "        bins = np.linspace(0,3600, 13)\n",
    "    \n",
    "    data = make_protein_pref_heatmap(casein_licks, malt_licks, bins)\n",
    "\n",
    "    return data\n",
    "\n",
    "# get_heatmap_data_from_row(df.iloc[0], bins=np.linspace(0,3600, 61))"
   ]
  },
  {
   "cell_type": "code",
   "execution_count": 44,
   "metadata": {},
   "outputs": [],
   "source": [
    "bins=np.linspace(0,3600, 13)\n",
    "\n",
    "PR_data = []\n",
    "for row in df.query(\"dietgroup == 'PR'\").iterrows():\n",
    "    data = get_heatmap_data_from_row(row[1], bins=bins)\n",
    "    PR_data.append(data)\n",
    "\n",
    "NR_data = []\n",
    "for row in df.query(\"dietgroup == 'NR'\").iterrows():\n",
    "    data = get_heatmap_data_from_row(row[1], bins=bins)\n",
    "    NR_data.append(data)"
   ]
  },
  {
   "cell_type": "code",
   "execution_count": 45,
   "metadata": {},
   "outputs": [
    {
     "data": {
      "image/png": "[encoded data removed]",
      "text/plain": [
       "<Figure size 480x100 with 3 Axes>"
      ]
     },
     "metadata": {},
     "output_type": "display_data"
    }
   ],
   "source": [
    "def sort_by_last_value(data):\n",
    "    data = np.array(data)\n",
    "    return data[np.argsort(data[:, -1])]\n",
    "\n",
    "PR_data_to_plot = sort_by_last_value(PR_data)\n",
    "NR_data_to_plot = sort_by_last_value(NR_data)\n",
    "\n",
    "def make_heatmap_fig(data, ax, cbar_ax=False, show_x_axis=True, **kwargs):\n",
    "    \n",
    "    if cbar_ax:\n",
    "        sns.heatmap(data, ax=ax,\n",
    "                    cmap=\"coolwarm\",\n",
    "                    vmin=0, vmax=1,\n",
    "                    cbar_ax=cbar_ax\n",
    "                    )\n",
    "        \n",
    "            # Rotate the colorbar label\n",
    "        # cbar = cbar_ax.collections[0].colorbar\n",
    "        # cbar.set_label('Protein preference', rotation=270, labelpad=15)\n",
    "        \n",
    "        ax3.set_ylabel('Protein pref.', rotation=270, labelpad=15, fontsize=10)\n",
    "        ax3.set_yticks([0, 0.5, 1], labels=[\"0.0\", \"0.5\", \"1.0\"], fontsize=8)\n",
    "        ax3.tick_params(axis='y', which='both', length=0)\n",
    "        \n",
    "    else:\n",
    "        sns.heatmap(data, ax=ax,\n",
    "                cmap=\"coolwarm\",\n",
    "                vmin=0, vmax=1,\n",
    "                cbar=False\n",
    "                )\n",
    "\n",
    "    ax.invert_yaxis()\n",
    "    ax.set_yticks([])\n",
    "\n",
    "    ticks = np.linspace(0, data.shape[1], 7)\n",
    "    \n",
    "    if show_x_axis:\n",
    "\n",
    "        ax.set_xticks(ticks,\n",
    "                    labels=[0, 10, 20, 30, 40, 50, 60],\n",
    "                    rotation=0)\n",
    "        ax.set_xlabel(\"Time (min)\")\n",
    "        \n",
    "    else:\n",
    "        ax.set_xticks([])\n",
    "\n",
    "f, [ax1, ax2, ax3] = plt.subplots(ncols=3, figsize=(4.8,1),\n",
    "                                  gridspec_kw={\"width_ratios\": [1, 1, 0.1],\n",
    "                                               \"left\": 0.15, \"bottom\": 0.1, \"top\": 0.95, \"right\": 0.8}\n",
    "                                  )\n",
    "\n",
    "make_heatmap_fig(NR_data_to_plot, ax1, cbar_ax=False, show_x_axis=False)\n",
    "make_heatmap_fig(PR_data_to_plot, ax2, cbar_ax=ax3, show_x_axis=False)\n",
    "\n",
    "if save_figs:\n",
    "    f.savefig(FIGSFOLDER / \"1C_heatmaps.pdf\", dpi=300)"
   ]
  },
  {
   "cell_type": "markdown",
   "metadata": {},
   "source": [
    "### Panels E and F"
   ]
  },
  {
   "cell_type": "code",
   "execution_count": 46,
   "metadata": {},
   "outputs": [],
   "source": [
    "def get_cumsum_licks(licks, bins=np.linspace(0, 3600, 61)):\n",
    "    hist = np.histogram(licks, bins=bins)[0]\n",
    "    return np.cumsum(hist)\n",
    "\n",
    "bins=np.linspace(0, 3600, 61)\n",
    "\n",
    "PR_cas, PR_malt = [], []\n",
    "for row in df.query(\"dietgroup == 'PR'\").iterrows():\n",
    "    cas_licks, malt_licks = get_licks_per_solution(row[1])\n",
    "    \n",
    "    PR_cas.append(get_cumsum_licks(cas_licks))\n",
    "    PR_malt.append(get_cumsum_licks(malt_licks))\n",
    "\n",
    "NR_cas, NR_malt = [], []\n",
    "for row in df.query(\"dietgroup == 'NR'\").iterrows():\n",
    "    cas_licks, malt_licks = get_licks_per_solution(row[1])\n",
    "    \n",
    "    NR_cas.append(get_cumsum_licks(cas_licks))\n",
    "    NR_malt.append(get_cumsum_licks(malt_licks))\n",
    "    \n",
    "PR_cas = np.array(PR_cas)\n",
    "PR_malt = np.array(PR_malt)\n",
    "NR_cas = np.array(NR_cas)\n",
    "NR_malt = np.array(NR_malt)"
   ]
  },
  {
   "cell_type": "code",
   "execution_count": 47,
   "metadata": {},
   "outputs": [
    {
     "data": {
      "image/png": "[encoded data removed]",
      "text/plain": [
       "<Figure size 480x200 with 3 Axes>"
      ]
     },
     "metadata": {},
     "output_type": "display_data"
    }
   ],
   "source": [
    "def make_cumsum_fig(cas_licks, malt_licks, bins, colors, ax):\n",
    "    \n",
    "    cas_sem = np.std(cas_licks, axis=0) / np.sqrt(cas_licks.shape[0])\n",
    "    malt_sem = np.std(malt_licks, axis=0) / np.sqrt(malt_licks.shape[0])\n",
    "    \n",
    "    ax.fill_between(bins[:-1], np.mean(cas_licks, axis=0)-cas_sem, np.mean(cas_licks, axis=0)+cas_sem, color=colors[0], alpha=0.5)\n",
    "    ax.plot(bins[:-1], np.mean(cas_licks, axis=0), color=colors[1], label=\"Casein\")\n",
    "\n",
    "    ax.fill_between(bins[:-1], np.mean(malt_licks, axis=0)-malt_sem, np.mean(malt_licks, axis=0)+malt_sem, color=colors[0], alpha=0.5)\n",
    "    ax.plot(bins[:-1], np.mean(malt_licks, axis=0), color=colors[2], label=\"Maltodextrin\")\n",
    "    \n",
    "    \n",
    "\n",
    "f, [ax1, ax2, ax3] = plt.subplots(ncols=3, figsize=(4.8,2),\n",
    "                                  sharey=True,\n",
    "                                  gridspec_kw={\"width_ratios\": [1, 1, 0.1],\n",
    "                                               \"left\": 0.15, \"bottom\": 0.21, \"top\": 0.95, \"right\": 0.8}\n",
    "                                  )\n",
    "\n",
    "colors_NR = [\"xkcd:silver\", \"black\", \"xkcd:grey\"]\n",
    "colors_PR = [\"xkcd:silver\", \"xkcd:electric blue\", \"xkcd:powder blue\"]\n",
    "\n",
    "make_cumsum_fig(NR_cas, NR_malt, bins, colors_NR, ax1)\n",
    "make_cumsum_fig(PR_cas, PR_malt, bins, colors_PR, ax2)\n",
    "\n",
    "for ax in [ax1, ax2]:\n",
    "    ax.set_xlim(-200, 3600)\n",
    "    ax.set_xticks([0, 1800, 3600], labels=[0, 30, 60])\n",
    "    ax.set_xlabel(\"Time (min)\")\n",
    "    \n",
    "    ax.spines[\"top\"].set_visible(False)\n",
    "    ax.spines[\"right\"].set_visible(False)\n",
    "\n",
    "ax1.set_ylabel(\"Cumulative licks\")\n",
    "\n",
    "ax3.axis(\"off\")\n",
    "\n",
    "if save_figs:\n",
    "    f.savefig(FIGSFOLDER / \"1D_cumulative_licks.pdf\", dpi=300)\n"
   ]
  },
  {
   "cell_type": "code",
   "execution_count": 48,
   "metadata": {},
   "outputs": [],
   "source": [
    "# Linear regression stats\n",
    "PR_cas\n",
    "import statsmodels.api as sm\n",
    "from statsmodels.formula.api import mixedlm"
   ]
  },
  {
   "cell_type": "code",
   "execution_count": 49,
   "metadata": {},
   "outputs": [],
   "source": [
    "# analysis on grouped data\n",
    "import statsmodels.api as sm\n",
    "from statsmodels.formula.api import ols\n"
   ]
  },
  {
   "cell_type": "code",
   "execution_count": 50,
   "metadata": {},
   "outputs": [
    {
     "data": {
      "text/plain": [
       "[8.780188941372602,\n",
       " 99.67802167268684,\n",
       " 88.32936926924144,\n",
       " 36.642095026396206,\n",
       " 65.91147540983606,\n",
       " 42.13670464017782,\n",
       " 11.848346762989715,\n",
       " 2.132703528757987,\n",
       " 75.97304806890803,\n",
       " 77.90283412058903,\n",
       " 29.677271464295632,\n",
       " 15.535843289802717,\n",
       " 5.355098638510695,\n",
       " 45.50619616560155]"
      ]
     },
     "execution_count": 50,
     "metadata": {},
     "output_type": "execute_result"
    }
   ],
   "source": [
    "def get_slopes(data):\n",
    "    slopes = []\n",
    "    for i in range(data.shape[0]):\n",
    "        slopes.append(get_slope(data[i]))\n",
    "    return slopes\n",
    "\n",
    "def get_slope(data):\n",
    "    x = np.arange(len(data))\n",
    "    x = sm.add_constant(x)\n",
    "    y = data\n",
    "\n",
    "    model = sm.OLS(y, x)\n",
    "    results = model.fit()\n",
    "    \n",
    "    return results.params[1]\n",
    "\n",
    "get_slopes(PR_cas)"
   ]
  },
  {
   "cell_type": "code",
   "execution_count": 51,
   "metadata": {},
   "outputs": [
    {
     "data": {
      "text/plain": [
       "[2.7691580994720746,\n",
       " 15.51533759377604,\n",
       " 5.495276465684911,\n",
       " 4.4467907752153355,\n",
       " 7.838816337871627,\n",
       " 11.640677966101691,\n",
       " 17.64481800500138,\n",
       " 10.246707418727421,\n",
       " 11.495721033620448,\n",
       " 9.437704918032786,\n",
       " 1.030175048624617,\n",
       " 34.30305640455681,\n",
       " 5.371186440677965,\n",
       " 57.780383439844385]"
      ]
     },
     "execution_count": 51,
     "metadata": {},
     "output_type": "execute_result"
    }
   ],
   "source": [
    "get_slopes(PR_malt)"
   ]
  },
  {
   "cell_type": "code",
   "execution_count": 52,
   "metadata": {},
   "outputs": [
    {
     "data": {
      "text/plain": [
       "(14, 60)"
      ]
     },
     "execution_count": 52,
     "metadata": {},
     "output_type": "execute_result"
    }
   ],
   "source": [
    "NR_cas.shape"
   ]
  },
  {
   "cell_type": "code",
   "execution_count": 53,
   "metadata": {},
   "outputs": [],
   "source": [
    "### Stats\n",
    "data = {\n",
    "    'subject': np.tile(np.arange(1, len(NR_cas) + len(PR_cas) + 1), 2),\n",
    "    'diet': np.tile([\"NR\"] * len(NR_cas) + [\"PR\"] * len(PR_cas), 2),\n",
    "    'solution': np.array([\"cas\"] * (len(NR_cas) + len(PR_cas)) + [\"malt\"] * (len(NR_malt) + len(PR_malt))),\n",
    "    'slopes': np.concatenate([get_slopes(NR_cas),\n",
    "                             get_slopes(PR_cas),\n",
    "                             get_slopes(NR_malt),\n",
    "                             get_slopes(PR_malt)]\n",
    "                             )\n",
    "}\n",
    "\n",
    "df_stats = pd.DataFrame(data)"
   ]
  },
  {
   "cell_type": "code",
   "execution_count": 54,
   "metadata": {},
   "outputs": [
    {
     "name": "stdout",
     "output_type": "stream",
     "text": [
      "                  Mixed Linear Model Regression Results\n",
      "==========================================================================\n",
      "Model:                   MixedLM       Dependent Variable:       slopes   \n",
      "No. Observations:        56            Method:                   REML     \n",
      "No. Groups:              28            Scale:                    352.9371 \n",
      "Min. group size:         2             Log-Likelihood:           -242.0528\n",
      "Max. group size:         2             Converged:                Yes      \n",
      "Mean group size:         2.0                                              \n",
      "--------------------------------------------------------------------------\n",
      "                              Coef.   Std.Err.   z    P>|z|  [0.025 0.975]\n",
      "--------------------------------------------------------------------------\n",
      "Intercept                      22.159    7.477  2.964 0.003   7.505 36.814\n",
      "diet[T.PR]                     21.084   10.574  1.994 0.046   0.360 41.809\n",
      "solution[T.malt]               -0.563    9.425 -0.060 0.952 -19.035 17.909\n",
      "diet[T.PR]:solution[T.malt]   -28.751   13.328 -2.157 0.031 -54.874 -2.628\n",
      "Group Var                     429.721                                     \n",
      "Group x solution[T.malt] Cov -480.489                                     \n",
      "solution[T.malt] Var          537.633                                     \n",
      "==========================================================================\n",
      "\n"
     ]
    }
   ],
   "source": [
    "from statsmodels.formula.api import mixedlm\n",
    "from statsmodels.stats.multicomp import pairwise_tukeyhsd\n",
    "\n",
    "\n",
    "df_stats['diet_solution'] = df_stats['diet'] + '_' + df_stats['solution']\n",
    "\n",
    "# Fit the mixed-effects model\n",
    "model = mixedlm('slopes ~ diet * solution', df_stats, groups=df_stats['subject'], re_formula='~solution')\n",
    "result = model.fit()\n",
    "\n",
    "# Print the summary of the regression\n",
    "print(result.summary())"
   ]
  },
  {
   "cell_type": "code",
   "execution_count": 55,
   "metadata": {},
   "outputs": [
    {
     "name": "stdout",
     "output_type": "stream",
     "text": [
      "  Multiple Comparison of Means - Tukey HSD, FWER=0.05  \n",
      "=======================================================\n",
      " group1  group2 meandiff p-adj   lower    upper  reject\n",
      "-------------------------------------------------------\n",
      " NR_cas NR_malt  -0.5631 0.9999 -24.5336 23.4075  False\n",
      " NR_cas  PR_cas  21.0844 0.1033  -2.8862 45.0549  False\n",
      " NR_cas PR_malt  -8.2295  0.799    -32.2 15.7411  False\n",
      "NR_malt  PR_cas  21.6474 0.0903  -2.3231  45.618  False\n",
      "NR_malt PR_malt  -7.6664 0.8308 -31.6369 16.3042  False\n",
      " PR_cas PR_malt -29.3138 0.0107 -53.2844 -5.3433   True\n",
      "-------------------------------------------------------\n"
     ]
    }
   ],
   "source": [
    "tukey = pairwise_tukeyhsd(endog=df_stats['slopes'], groups=df_stats['diet_solution'], alpha=0.05)\n",
    "\n",
    "# Print the results\n",
    "print(tukey)"
   ]
  },
  {
   "cell_type": "code",
   "execution_count": 56,
   "metadata": {},
   "outputs": [
    {
     "name": "stdout",
     "output_type": "stream",
     "text": [
      "NR cas vs NR malt = 1.000 (0.951 before correction))\n",
      "PR cas vs PR malt = 0.042 (0.011 before correction))\n",
      "NR cas vs PR cas = 0.208 (0.057 before correction))\n",
      "NR malt vs PR malt = 0.752 (0.294 before correction))\n"
     ]
    }
   ],
   "source": [
    "## Posthocs\n",
    "\n",
    "ncomps = 4 #because NR vs PR for each solution and cas vs malt for each diet group\n",
    "\n",
    "NR_c = get_slopes(NR_cas)\n",
    "NR_m = get_slopes(NR_malt)\n",
    "PR_c = get_slopes(PR_cas)\n",
    "PR_m = get_slopes(PR_malt)\n",
    "\n",
    "# solution\n",
    "_, p = ttest_rel(NR_c, NR_m)\n",
    "print(\"NR cas vs NR malt = {:.3f} ({:.3f} before correction))\".format(tp.sidakcorr(p, ncomps=ncomps), p))\n",
    "\n",
    "_, p = ttest_rel(PR_c, PR_m)\n",
    "print(\"PR cas vs PR malt = {:.3f} ({:.3f} before correction))\".format(tp.sidakcorr(p, ncomps=ncomps), p))\n",
    "\n",
    "# diet\n",
    "_, p = ttest_ind(NR_c, PR_c)\n",
    "print(\"NR cas vs PR cas = {:.3f} ({:.3f} before correction))\".format(tp.sidakcorr(p, ncomps=ncomps), p))\n",
    "\n",
    "_, p = ttest_ind(NR_m, PR_m)\n",
    "print(\"NR malt vs PR malt = {:.3f} ({:.3f} before correction))\".format(tp.sidakcorr(p, ncomps=ncomps), p))\n"
   ]
  },
  {
   "cell_type": "code",
   "execution_count": 57,
   "metadata": {},
   "outputs": [
    {
     "name": "stdout",
     "output_type": "stream",
     "text": [
      "        Source           SS  DF1  DF2           MS         F     p-unc  \\\n",
      "0         diet   630.147394    1   26   630.147394  1.211295  0.281161   \n",
      "1     solution  3124.201691    1   26  3124.201691  5.024996  0.033738   \n",
      "2  Interaction  2893.115338    1   26  2893.115338  4.653315  0.040415   \n",
      "\n",
      "        np2  eps  \n",
      "0  0.044514  NaN  \n",
      "1  0.161966  1.0  \n",
      "2  0.151805  NaN  \n"
     ]
    }
   ],
   "source": [
    "aov = pg.mixed_anova(data=df_stats, dv='slopes', subject='subject', within='solution', between='diet')\n",
    "\n",
    "print(aov)"
   ]
  },
  {
   "cell_type": "code",
   "execution_count": null,
   "metadata": {},
   "outputs": [],
   "source": []
  }
 ],
 "metadata": {
  "kernelspec": {
   "display_name": "base",
   "language": "python",
   "name": "python3"
  },
  "language_info": {
   "codemirror_mode": {
    "name": "ipython",
    "version": 3
   },
   "file_extension": ".py",
   "mimetype": "text/x-python",
   "name": "python",
   "nbconvert_exporter": "python",
   "pygments_lexer": "ipython3",
   "version": "3.12.3"
  }
 },
 "nbformat": 4,
 "nbformat_minor": 4
}
