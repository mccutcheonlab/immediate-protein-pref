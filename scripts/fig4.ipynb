{
 "cells": [
  {
   "cell_type": "code",
   "execution_count": 9,
   "metadata": {},
   "outputs": [],
   "source": [
    "from pathlib import Path\n",
    "import numpy as np\n",
    "import pandas as pd\n",
    "from scipy.stats import ttest_1samp\n",
    "import matplotlib.pyplot as plt\n",
    "import seaborn as sns\n",
    "import trompy as tp\n",
    "\n",
    "plt.rcParams['font.family'] = 'Arial'\n",
    "plt.rcParams['pdf.fonttype'] = 42  # Ensure fonts are embedded as Type 3 fonts"
   ]
  },
  {
   "cell_type": "code",
   "execution_count": 10,
   "metadata": {},
   "outputs": [],
   "source": [
    "DATAFOLDER = Path(\"..\\\\data\")\n",
    "FIGSFOLDER = Path(\"..\\\\figures\")\n",
    "FIGSFOLDER = Path(\"C:\\\\Users\\\\jmc010\\\\Dropbox\\\\Publications in Progress\\\\IPP Giulia paper\\\\figs\")\n",
    "\n",
    "save_figs = True\n",
    "\n",
    "def tweak_df(df):\n",
    "\n",
    "    return (df\n",
    "            .query(\"session == 's4'\")\n",
    "            )\n",
    "\n",
    "df = pd.read_excel(DATAFOLDER / \"metafile_ipp.xlsx\", sheet_name=\"metafile Exp 2\")\n",
    "df = tweak_df(df)"
   ]
  },
  {
   "cell_type": "code",
   "execution_count": 11,
   "metadata": {},
   "outputs": [],
   "source": [
    "def get_licks_per_solution(row):\n",
    "    filename = row.medfile\n",
    "    # print(f\"Processing {filename}\")\n",
    "\n",
    "    L, R = tp.medfilereader(DATAFOLDER / filename, vars_to_extract=[\"b\", \"e\"], remove_var_header=True)\n",
    "\n",
    "    if \"malt\" in row.bottleL and \"cas\" in row.bottleR:\n",
    "        med_var_malt, med_var_casein = L, R\n",
    "    elif \"malt\" in row.bottleR and \"cas\" in row.bottleL:\n",
    "        med_var_malt, med_var_casein = R, L\n",
    "    else:\n",
    "        raise ValueError(\"Bottles not found\")\n",
    "    \n",
    "    return med_var_casein, med_var_malt\n",
    "\n",
    "PR_cas, PR_malt = [], []\n",
    "for row in df.query(\"dietgroup == 'PR'\").iterrows():\n",
    "    cas_licks, malt_licks = get_licks_per_solution(row[1])\n",
    "    \n",
    "    PR_cas.append(len(cas_licks))\n",
    "    PR_malt.append(len(malt_licks))\n",
    "\n",
    "NR_cas, NR_malt = [], []\n",
    "for row in df.query(\"dietgroup == 'NR'\").iterrows():\n",
    "    cas_licks, malt_licks = get_licks_per_solution(row[1])\n",
    "    \n",
    "    NR_cas.append(len(cas_licks))\n",
    "    NR_malt.append(len(malt_licks))"
   ]
  },
  {
   "cell_type": "code",
   "execution_count": 12,
   "metadata": {},
   "outputs": [
    {
     "data": {
      "image/png": "[encoded data removed]",
      "text/plain": [
       "<Figure size 140x200 with 1 Axes>"
      ]
     },
     "metadata": {},
     "output_type": "display_data"
    }
   ],
   "source": [
    "np.random.seed(41)\n",
    "colors = [\"xkcd:silver\", \"white\", \"xkcd:electric blue\", \"xkcd:powder blue\"]\n",
    "\n",
    "def jitter(x, n, spread=0.1):\n",
    "    return x + np.random.normal(0, spread, n)\n",
    "\n",
    "PR_pref = np.array(PR_cas) / (np.array(PR_cas) + np.array(PR_malt))\n",
    "NR_pref = np.array(NR_cas) / (np.array(NR_cas) + np.array(NR_malt))\n",
    "\n",
    "f, ax = plt.subplots(figsize=(1.4, 2),\n",
    "                     gridspec_kw={\"left\": 0.4, \"bottom\": 0.21, \"top\": 0.95, \"right\": 0.95})\n",
    "\n",
    "ax.bar( 0, np.mean(NR_pref), color=colors[0])\n",
    "ax.bar( 1, np.mean(PR_pref), color=colors[2])\n",
    "\n",
    "ax.scatter(jitter(0, len(NR_pref)), NR_pref, color=\"white\", edgecolor=\"grey\")\n",
    "ax.scatter(jitter(1, len(PR_pref)), PR_pref, color=\"white\", edgecolor=\"grey\")\n",
    "\n",
    "ax.set_ylim(0, 1.05)\n",
    "ax.set_xlim(-0.55, 1.55)\n",
    "ax.set_yticks([0, 0.5, 1])\n",
    "ax.set_xticks([0, 1], labels=[\"NR\", \"PR\"])\n",
    "\n",
    "ax.spines[\"top\"].set_visible(False)\n",
    "ax.spines[\"right\"].set_visible(False)\n",
    "\n",
    "ax.tick_params(axis='x', which='both', length=0)\n",
    "\n",
    "ax.set_ylabel(\"Protein preference\")\n",
    "\n",
    "if save_figs:\n",
    "    f.savefig(FIGSFOLDER / \"4A_protein_preference.pdf\", dpi=300)"
   ]
  },
  {
   "cell_type": "code",
   "execution_count": 13,
   "metadata": {},
   "outputs": [
    {
     "data": {
      "image/png": "[encoded data removed]",
      "text/plain": [
       "<Figure size 140x200 with 1 Axes>"
      ]
     },
     "metadata": {},
     "output_type": "display_data"
    }
   ],
   "source": [
    "np.random.seed(41)\n",
    "colors = [\"xkcd:silver\", \"white\", \"xkcd:electric blue\", \"xkcd:powder blue\"]\n",
    "\n",
    "def jitter(x, n, spread=0.1):\n",
    "    return x + np.random.normal(0, spread, n)\n",
    "\n",
    "PR_pref = np.array(PR_cas) / (np.array(PR_cas) + np.array(PR_malt)) - 0.5\n",
    "NR_pref = np.array(NR_cas) / (np.array(NR_cas) + np.array(NR_malt)) - 0.5\n",
    "\n",
    "f, ax = plt.subplots(figsize=(1.4, 2),\n",
    "                     gridspec_kw={\"left\": 0.4, \"bottom\": 0.21, \"top\": 0.95, \"right\": 0.95})\n",
    "\n",
    "ax.bar( 0, np.mean(NR_pref), color=colors[0])\n",
    "ax.bar( 1, np.mean(PR_pref), color=colors[2])\n",
    "\n",
    "ax.scatter(jitter(0, len(NR_pref)), NR_pref, color=\"white\", edgecolor=\"grey\")\n",
    "ax.scatter(jitter(1, len(PR_pref)), PR_pref, color=\"white\", edgecolor=\"grey\")\n",
    "\n",
    "ax.set_ylim(-0.5, 0.6)\n",
    "ax.set_xlim(-0.55, 1.55)\n",
    "ax.set_yticks([-0.5,0, 0.5], labels=[\"0\", \"0.5\", \"1\"])\n",
    "ax.set_xticks([0, 1], labels=[\"NR\", \"PR\"])\n",
    "\n",
    "ax.axhline(0, color=\"black\", lw=0.75, ls=\"--\", zorder=0, alpha=0.5)\n",
    "\n",
    "ax.spines[\"top\"].set_visible(False)\n",
    "ax.spines[\"right\"].set_visible(False)\n",
    "ax.spines[\"bottom\"].set_visible(False)\n",
    "\n",
    "ax.tick_params(axis='x', which='both', length=0)\n",
    "\n",
    "ax.set_ylabel(\"Protein preference\")\n",
    "\n",
    "save_figs = False\n",
    "if save_figs:\n",
    "    f.savefig(FIGSFOLDER / \"4A_protein_preference.pdf\", dpi=300)"
   ]
  },
  {
   "cell_type": "code",
   "execution_count": 14,
   "metadata": {},
   "outputs": [
    {
     "name": "stdout",
     "output_type": "stream",
     "text": [
      "NR preference: t=-4.557, p=0.003\n",
      "PR preference: t=-6.621, p=0.000\n"
     ]
    }
   ],
   "source": [
    "## Statistics\n",
    "t, p = ttest_1samp(NR_pref, 0.5)\n",
    "print(\"NR preference: t={:.3f}, p={:.3f}\".format(t, p))\n",
    "\n",
    "t, p = ttest_1samp(PR_pref, 0.5)\n",
    "print(\"PR preference: t={:.3f}, p={:.3f}\".format(t, p))"
   ]
  },
  {
   "cell_type": "code",
   "execution_count": 15,
   "metadata": {},
   "outputs": [],
   "source": [
    "def get_cumsum_licks(licks, bins=np.linspace(0, 3600, 61)):\n",
    "    hist = np.histogram(licks, bins=bins)[0]\n",
    "    return np.cumsum(hist)\n",
    "\n",
    "bins=np.linspace(0, 3600, 61)\n",
    "\n",
    "PR_cas, PR_malt = [], []\n",
    "for row in df.query(\"dietgroup == 'PR'\").iterrows():\n",
    "    cas_licks, malt_licks = get_licks_per_solution(row[1])\n",
    "    \n",
    "    PR_cas.append(get_cumsum_licks(cas_licks))\n",
    "    PR_malt.append(get_cumsum_licks(malt_licks))\n",
    "\n",
    "NR_cas, NR_malt = [], []\n",
    "for row in df.query(\"dietgroup == 'NR'\").iterrows():\n",
    "    cas_licks, malt_licks = get_licks_per_solution(row[1])\n",
    "    \n",
    "    NR_cas.append(get_cumsum_licks(cas_licks))\n",
    "    NR_malt.append(get_cumsum_licks(malt_licks))\n",
    "    \n",
    "PR_cas = np.array(PR_cas)\n",
    "PR_malt = np.array(PR_malt)\n",
    "NR_cas = np.array(NR_cas)\n",
    "NR_malt = np.array(NR_malt)"
   ]
  },
  {
   "cell_type": "code",
   "execution_count": 16,
   "metadata": {},
   "outputs": [
    {
     "data": {
      "image/png": "[encoded data removed]",
      "text/plain": [
       "<Figure size 450x200 with 2 Axes>"
      ]
     },
     "metadata": {},
     "output_type": "display_data"
    }
   ],
   "source": [
    "def make_cumsum_fig(cas_licks, malt_licks, bins, colors, ax):\n",
    "    \n",
    "    cas_sem = np.std(cas_licks, axis=0) / np.sqrt(cas_licks.shape[0])\n",
    "    malt_sem = np.std(malt_licks, axis=0) / np.sqrt(malt_licks.shape[0])\n",
    "    \n",
    "    ax.fill_between(bins[:-1], np.mean(cas_licks, axis=0)-cas_sem, np.mean(cas_licks, axis=0)+cas_sem, color=colors[0], alpha=0.5)\n",
    "    ax.plot(bins[:-1], np.mean(cas_licks, axis=0), color=colors[1], label=\"Casein\")\n",
    "\n",
    "    ax.fill_between(bins[:-1], np.mean(malt_licks, axis=0)-malt_sem, np.mean(malt_licks, axis=0)+malt_sem, color=colors[0], alpha=0.5)\n",
    "    ax.plot(bins[:-1], np.mean(malt_licks, axis=0), color=colors[2], label=\"Maltodextrin\")\n",
    "    \n",
    "    \n",
    "\n",
    "f, [ax1, ax2] = plt.subplots(ncols=2, figsize=(4.5,2),\n",
    "                                  sharey=True,\n",
    "                                  gridspec_kw={\"left\": 0.15, \"bottom\": 0.21, \"top\": 0.95, \"right\": 0.95,\n",
    "                                               \"wspace\": 0.3}\n",
    "                                  )\n",
    "\n",
    "colors_NR = [\"xkcd:silver\", \"black\", \"xkcd:grey\"]\n",
    "colors_PR = [\"xkcd:silver\", \"xkcd:electric blue\", \"xkcd:powder blue\"]\n",
    "\n",
    "make_cumsum_fig(NR_cas, NR_malt, bins, colors_NR, ax1)\n",
    "make_cumsum_fig(PR_cas, PR_malt, bins, colors_PR, ax2)\n",
    "\n",
    "for ax in [ax1, ax2]:\n",
    "    ax.set_xlim(-200, 3600)\n",
    "    ax.set_xticks([0, 1800, 3600], labels=[0, 30, 60])\n",
    "    ax.set_xlabel(\"Time (min)\")\n",
    "    \n",
    "    ax.spines[\"top\"].set_visible(False)\n",
    "    ax.spines[\"right\"].set_visible(False)\n",
    "\n",
    "ax1.set_ylabel(\"Cumulative licks\")\n",
    "\n",
    "if save_figs:\n",
    "    f.savefig(FIGSFOLDER / \"4B_cumulative_licks.pdf\", dpi=300)"
   ]
  },
  {
   "cell_type": "code",
   "execution_count": null,
   "metadata": {},
   "outputs": [],
   "source": []
  }
 ],
 "metadata": {
  "kernelspec": {
   "display_name": "base",
   "language": "python",
   "name": "python3"
  },
  "language_info": {
   "codemirror_mode": {
    "name": "ipython",
    "version": 3
   },
   "file_extension": ".py",
   "mimetype": "text/x-python",
   "name": "python",
   "nbconvert_exporter": "python",
   "pygments_lexer": "ipython3",
   "version": "3.12.3"
  }
 },
 "nbformat": 4,
 "nbformat_minor": 4
}
