{
 "cells": [
  {
   "cell_type": "code",
   "execution_count": 5,
   "metadata": {},
   "outputs": [],
   "source": [
    "from pathlib import Path\n",
    "import pandas as pd\n",
    "import trompy as tp"
   ]
  },
  {
   "cell_type": "code",
   "execution_count": 4,
   "metadata": {},
   "outputs": [],
   "source": [
    "DATAFOLDER = Path(\"..\\\\data\")"
   ]
  },
  {
   "cell_type": "code",
   "execution_count": 43,
   "metadata": {},
   "outputs": [],
   "source": [
    "def get_weibull_params(df):\n",
    "\n",
    "    for i, row in df.iterrows():\n",
    "        file = row[\"medfile\"]\n",
    "        sides = tp.medfilereader(DATAFOLDER / file, vars_to_extract=[\"b\", \"e\"], remove_var_header=True)\n",
    "        for idx, side in enumerate([\"L\", \"R\"]):\n",
    "            \n",
    "            lickdata = tp.lickCalc(sides[idx], minburstlength=3)\n",
    "            alpha = lickdata[\"weib_alpha\"]\n",
    "            beta = lickdata[\"weib_beta\"]\n",
    "            rsq = lickdata[\"weib_rsq\"]\n",
    "            df.loc[i, f\"{side}_alpha\"] = alpha\n",
    "            df.loc[i, f\"{side}_beta\"] = beta\n",
    "            df.loc[i, f\"{side}_rsq\"] = rsq\n",
    "\n",
    "    return df"
   ]
  },
  {
   "cell_type": "code",
   "execution_count": 90,
   "metadata": {},
   "outputs": [
    {
     "name": "stderr",
     "output_type": "stream",
     "text": [
      "c:\\Users\\jmc010\\AppData\\Local\\miniconda3\\Lib\\site-packages\\trompy\\lickcalc.py:239: RuntimeWarning: invalid value encountered in power\n",
      "  return (np.exp(-(alpha*x)**beta))\n",
      "c:\\Users\\jmc010\\AppData\\Local\\miniconda3\\Lib\\site-packages\\trompy\\lickcalc.py:239: RuntimeWarning: invalid value encountered in power\n",
      "  return (np.exp(-(alpha*x)**beta))\n",
      "c:\\Users\\jmc010\\AppData\\Local\\miniconda3\\Lib\\site-packages\\trompy\\lickcalc.py:239: RuntimeWarning: invalid value encountered in power\n",
      "  return (np.exp(-(alpha*x)**beta))\n",
      "c:\\Users\\jmc010\\AppData\\Local\\miniconda3\\Lib\\site-packages\\trompy\\lickcalc.py:239: RuntimeWarning: invalid value encountered in power\n",
      "  return (np.exp(-(alpha*x)**beta))\n",
      "c:\\Users\\jmc010\\AppData\\Local\\miniconda3\\Lib\\site-packages\\trompy\\lickcalc.py:239: RuntimeWarning: invalid value encountered in power\n",
      "  return (np.exp(-(alpha*x)**beta))\n",
      "c:\\Users\\jmc010\\AppData\\Local\\miniconda3\\Lib\\site-packages\\trompy\\lickcalc.py:239: RuntimeWarning: invalid value encountered in power\n",
      "  return (np.exp(-(alpha*x)**beta))\n",
      "c:\\Users\\jmc010\\AppData\\Local\\miniconda3\\Lib\\site-packages\\trompy\\lickcalc.py:239: RuntimeWarning: invalid value encountered in power\n",
      "  return (np.exp(-(alpha*x)**beta))\n",
      "c:\\Users\\jmc010\\AppData\\Local\\miniconda3\\Lib\\site-packages\\trompy\\lickcalc.py:239: RuntimeWarning: invalid value encountered in power\n",
      "  return (np.exp(-(alpha*x)**beta))\n",
      "c:\\Users\\jmc010\\AppData\\Local\\miniconda3\\Lib\\site-packages\\trompy\\lickcalc.py:239: RuntimeWarning: invalid value encountered in power\n",
      "  return (np.exp(-(alpha*x)**beta))\n",
      "c:\\Users\\jmc010\\AppData\\Local\\miniconda3\\Lib\\site-packages\\trompy\\lickcalc.py:239: RuntimeWarning: invalid value encountered in power\n",
      "  return (np.exp(-(alpha*x)**beta))\n",
      "c:\\Users\\jmc010\\AppData\\Local\\miniconda3\\Lib\\site-packages\\trompy\\lickcalc.py:239: RuntimeWarning: invalid value encountered in power\n",
      "  return (np.exp(-(alpha*x)**beta))\n",
      "c:\\Users\\jmc010\\AppData\\Local\\miniconda3\\Lib\\site-packages\\trompy\\lickcalc.py:239: RuntimeWarning: invalid value encountered in power\n",
      "  return (np.exp(-(alpha*x)**beta))\n",
      "c:\\Users\\jmc010\\AppData\\Local\\miniconda3\\Lib\\site-packages\\trompy\\lickcalc.py:239: RuntimeWarning: invalid value encountered in power\n",
      "  return (np.exp(-(alpha*x)**beta))\n",
      "c:\\Users\\jmc010\\AppData\\Local\\miniconda3\\Lib\\site-packages\\trompy\\lickcalc.py:239: RuntimeWarning: invalid value encountered in power\n",
      "  return (np.exp(-(alpha*x)**beta))\n",
      "c:\\Users\\jmc010\\AppData\\Local\\miniconda3\\Lib\\site-packages\\trompy\\lickcalc.py:239: RuntimeWarning: invalid value encountered in power\n",
      "  return (np.exp(-(alpha*x)**beta))\n",
      "c:\\Users\\jmc010\\AppData\\Local\\miniconda3\\Lib\\site-packages\\trompy\\lickcalc.py:239: RuntimeWarning: invalid value encountered in power\n",
      "  return (np.exp(-(alpha*x)**beta))\n",
      "c:\\Users\\jmc010\\AppData\\Local\\miniconda3\\Lib\\site-packages\\trompy\\lickcalc.py:239: RuntimeWarning: invalid value encountered in power\n",
      "  return (np.exp(-(alpha*x)**beta))\n"
     ]
    }
   ],
   "source": [
    "def tweak_df(df):\n",
    "\n",
    "    return (df\n",
    "            .query(\"session == 's4'\")\n",
    "            )\n",
    "\n",
    "df = pd.read_excel(DATAFOLDER / \"metafile_ipp.xlsx\", sheet_name=\"metafile Exp 1\")\n",
    "df = tweak_df(df)\n",
    "\n",
    "df = get_weibull_params(df)\n",
    "df = side2solution(df)\n",
    "df = df.query(\"cas_rsq > 0.95 and malt_rsq > 0.95\")\n"
   ]
  },
  {
   "cell_type": "code",
   "execution_count": 91,
   "metadata": {},
   "outputs": [
    {
     "data": {
      "text/plain": [
       "25"
      ]
     },
     "execution_count": 91,
     "metadata": {},
     "output_type": "execute_result"
    }
   ],
   "source": [
    "len(df)"
   ]
  },
  {
   "cell_type": "code",
   "execution_count": 79,
   "metadata": {},
   "outputs": [
    {
     "data": {
      "text/plain": [
       "array(['casein(CH)', 'maltodextrin(GR)', 'maltodextrin(CH)', 'casein(GR)',\n",
       "       'casein CH', 'malto GR', 'malto CH', 'casein GR'], dtype=object)"
      ]
     },
     "execution_count": 79,
     "metadata": {},
     "output_type": "execute_result"
    }
   ],
   "source": [
    "df.bottleR.unique()"
   ]
  },
  {
   "cell_type": "code",
   "execution_count": 85,
   "metadata": {},
   "outputs": [],
   "source": [
    "def side2solution(df):\n",
    "    for i, row in df.iterrows():\n",
    "\n",
    "        if \"malt\" in row.bottleL and \"cas\" in row.bottleR:\n",
    "            df.loc[i, \"malt_alpha\"] = 1 / row.L_alpha\n",
    "            df.loc[i, \"malt_beta\"] = row.L_beta\n",
    "            df.loc[i, \"malt_rsq\"] = row.L_rsq\n",
    "\n",
    "            df.loc[i, \"cas_alpha\"] = 1 / row.R_alpha\n",
    "            df.loc[i, \"cas_beta\"] = row.R_beta\n",
    "            df.loc[i, \"cas_rsq\"] = row.R_rsq\n",
    "        else:\n",
    "            df.loc[i, \"malt_alpha\"] = 1 / row.R_alpha\n",
    "            df.loc[i, \"malt_beta\"] = row.R_beta\n",
    "            df.loc[i, \"malt_rsq\"] = row.R_rsq\n",
    "\n",
    "            df.loc[i, \"cas_alpha\"] = 1 / row.L_alpha\n",
    "            df.loc[i, \"cas_beta\"] = row.L_beta\n",
    "            df.loc[i, \"cas_rsq\"] = row.L_rsq\n",
    "\n",
    "    return df"
   ]
  },
  {
   "cell_type": "code",
   "execution_count": 81,
   "metadata": {},
   "outputs": [
    {
     "data": {
      "text/plain": [
       "0.05471321418425304"
      ]
     },
     "execution_count": 81,
     "metadata": {},
     "output_type": "execute_result"
    }
   ],
   "source": [
    "df.query(\"dietgroup == 'NR'\").cas_alpha.mean()\n",
    "df.query(\"dietgroup == 'PR'\").cas_alpha.mean()"
   ]
  },
  {
   "cell_type": "code",
   "execution_count": 82,
   "metadata": {},
   "outputs": [
    {
     "data": {
      "text/plain": [
       "1.0152103942729211"
      ]
     },
     "execution_count": 82,
     "metadata": {},
     "output_type": "execute_result"
    }
   ],
   "source": [
    "df.query(\"dietgroup == 'NR'\").cas_beta.mean()\n",
    "#df.query(\"dietgroup == 'PR'\").cas_beta.mean()"
   ]
  },
  {
   "cell_type": "code",
   "execution_count": 92,
   "metadata": {},
   "outputs": [
    {
     "data": {
      "text/plain": [
       "{'whiskers': [<matplotlib.lines.Line2D at 0x17e88fbe660>,\n",
       "  <matplotlib.lines.Line2D at 0x17e88fbe810>,\n",
       "  <matplotlib.lines.Line2D at 0x17e88ffe120>,\n",
       "  <matplotlib.lines.Line2D at 0x17e88fff260>,\n",
       "  <matplotlib.lines.Line2D at 0x17e890235c0>,\n",
       "  <matplotlib.lines.Line2D at 0x17e89023950>,\n",
       "  <matplotlib.lines.Line2D at 0x17e8905dbb0>,\n",
       "  <matplotlib.lines.Line2D at 0x17e8905e7e0>],\n",
       " 'caps': [<matplotlib.lines.Line2D at 0x17e88fbc500>,\n",
       "  <matplotlib.lines.Line2D at 0x17e88fb6ae0>,\n",
       "  <matplotlib.lines.Line2D at 0x17e88fff140>,\n",
       "  <matplotlib.lines.Line2D at 0x17e88ffe840>,\n",
       "  <matplotlib.lines.Line2D at 0x17e890207d0>,\n",
       "  <matplotlib.lines.Line2D at 0x17e89020fe0>,\n",
       "  <matplotlib.lines.Line2D at 0x17e8905f1d0>,\n",
       "  <matplotlib.lines.Line2D at 0x17e8905e120>],\n",
       " 'boxes': [<matplotlib.lines.Line2D at 0x17e88fbe270>,\n",
       "  <matplotlib.lines.Line2D at 0x17e88fffe90>,\n",
       "  <matplotlib.lines.Line2D at 0x17e890224b0>,\n",
       "  <matplotlib.lines.Line2D at 0x17e8905f290>],\n",
       " 'medians': [<matplotlib.lines.Line2D at 0x17e88ffc7a0>,\n",
       "  <matplotlib.lines.Line2D at 0x17e88ffe3c0>,\n",
       "  <matplotlib.lines.Line2D at 0x17e88ef6540>,\n",
       "  <matplotlib.lines.Line2D at 0x17e8905de50>],\n",
       " 'fliers': [<matplotlib.lines.Line2D at 0x17e88ffd040>,\n",
       "  <matplotlib.lines.Line2D at 0x17e89021a30>,\n",
       "  <matplotlib.lines.Line2D at 0x17e88ef4b60>,\n",
       "  <matplotlib.lines.Line2D at 0x17e8905d880>],\n",
       " 'means': []}"
      ]
     },
     "execution_count": 92,
     "metadata": {},
     "output_type": "execute_result"
    },
    {
     "data": {
      "image/png": "[encoded data removed]",
      "text/plain": [
       "<Figure size 1000x500 with 2 Axes>"
      ]
     },
     "metadata": {},
     "output_type": "display_data"
    }
   ],
   "source": [
    "df_NR = df.query(\"dietgroup == 'NR'\")\n",
    "df_PR = df.query(\"dietgroup == 'PR'\")\n",
    "\n",
    "import matplotlib.pyplot as plt\n",
    "\n",
    "f, ax = plt.subplots(1, 2, figsize=(10, 5))\n",
    "\n",
    "ax[0].boxplot([df_NR.cas_alpha, df_NR.malt_alpha, df_PR.cas_alpha, df_PR.malt_alpha])\n",
    "ax[1].boxplot([df_NR.cas_beta, df_NR.malt_beta, df_PR.cas_beta, df_PR.malt_beta])"
   ]
  },
  {
   "cell_type": "code",
   "execution_count": 84,
   "metadata": {},
   "outputs": [
    {
     "data": {
      "text/plain": [
       "[112    0.049267\n",
       " 113    0.016440\n",
       " 114    0.032753\n",
       " 115    0.070324\n",
       " 122    0.034388\n",
       " 123    0.027556\n",
       " 126    0.028788\n",
       " 127    0.020939\n",
       " 211    0.015000\n",
       " 212    0.027497\n",
       " 216    0.076792\n",
       " 219    0.048464\n",
       " 220    0.070423\n",
       " Name: cas_alpha, dtype: float64,\n",
       " 112    0.031854\n",
       " 113    0.018723\n",
       " 114    0.102713\n",
       " 115    0.073647\n",
       " 122    0.098617\n",
       " 123    0.010206\n",
       " 126    0.016378\n",
       " 127    0.055915\n",
       " 211    0.019240\n",
       " 212    0.072470\n",
       " 216    0.079992\n",
       " 219    0.055490\n",
       " 220    0.081134\n",
       " Name: malt_alpha, dtype: float64,\n",
       " 116    0.089435\n",
       " 117    0.028024\n",
       " 118    0.008063\n",
       " 120    0.011692\n",
       " 124    0.011765\n",
       " 125    0.111602\n",
       " 213    0.074411\n",
       " 214    0.059635\n",
       " 217    0.088954\n",
       " 218    0.026397\n",
       " 221    0.105596\n",
       " 222    0.040986\n",
       " Name: cas_alpha, dtype: float64,\n",
       " 116    0.080045\n",
       " 117    0.126773\n",
       " 118    0.173542\n",
       " 120    0.012493\n",
       " 124    0.055171\n",
       " 125    0.076187\n",
       " 213    0.087617\n",
       " 214    0.097186\n",
       " 217    0.101840\n",
       " 218    0.041787\n",
       " 221    0.113056\n",
       " 222    0.141700\n",
       " Name: malt_alpha, dtype: float64]"
      ]
     },
     "execution_count": 84,
     "metadata": {},
     "output_type": "execute_result"
    }
   ],
   "source": [
    "[df_NR.cas_alpha, df_NR.malt_alpha, df_PR.cas_alpha, df_PR.malt_alpha]"
   ]
  },
  {
   "cell_type": "code",
   "execution_count": 93,
   "metadata": {},
   "outputs": [
    {
     "data": {
      "text/plain": [
       "[48     1.303543\n",
       " 49     1.272548\n",
       " 50     0.865126\n",
       " 58     1.116740\n",
       " 59     1.044153\n",
       " 62     1.410220\n",
       " 63     1.563384\n",
       " 164    1.401558\n",
       " 165    1.212710\n",
       " 168    1.344238\n",
       " 169    2.927985\n",
       " 172    1.239519\n",
       " 173    5.461659\n",
       " Name: cas_beta, dtype: float64,\n",
       " 48     0.988714\n",
       " 49     1.648123\n",
       " 50     1.236028\n",
       " 58     1.199659\n",
       " 59     4.009021\n",
       " 62     0.957679\n",
       " 63     0.889117\n",
       " 164    1.199565\n",
       " 165    1.393679\n",
       " 168    0.848253\n",
       " 169    1.872951\n",
       " 172    1.224107\n",
       " 173    1.593447\n",
       " Name: malt_beta, dtype: float64,\n",
       " 52     1.996885\n",
       " 53     1.129964\n",
       " 54     1.029643\n",
       " 55     1.229346\n",
       " 56     1.038534\n",
       " 57     1.017264\n",
       " 60     1.618896\n",
       " 166    0.781883\n",
       " 167    1.087349\n",
       " 171    1.086180\n",
       " 174    1.305542\n",
       " 175    1.437934\n",
       " Name: cas_beta, dtype: float64,\n",
       " 52     2.882816\n",
       " 53     1.360178\n",
       " 54     1.097291\n",
       " 55     2.084984\n",
       " 56     1.009288\n",
       " 57     1.144519\n",
       " 60     1.289362\n",
       " 166    1.504562\n",
       " 167    1.576352\n",
       " 171    1.290985\n",
       " 174    1.593093\n",
       " 175    1.112611\n",
       " Name: malt_beta, dtype: float64]"
      ]
     },
     "execution_count": 93,
     "metadata": {},
     "output_type": "execute_result"
    }
   ],
   "source": [
    "[df_NR.cas_beta, df_NR.malt_beta, df_PR.cas_beta, df_PR.malt_beta]"
   ]
  },
  {
   "cell_type": "code",
   "execution_count": null,
   "metadata": {},
   "outputs": [],
   "source": []
  }
 ],
 "metadata": {
  "kernelspec": {
   "display_name": "base",
   "language": "python",
   "name": "python3"
  },
  "language_info": {
   "codemirror_mode": {
    "name": "ipython",
    "version": 3
   },
   "file_extension": ".py",
   "mimetype": "text/x-python",
   "name": "python",
   "nbconvert_exporter": "python",
   "pygments_lexer": "ipython3",
   "version": "3.12.3"
  }
 },
 "nbformat": 4,
 "nbformat_minor": 2
}
