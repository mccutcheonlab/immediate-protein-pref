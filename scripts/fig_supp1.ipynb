{
 "cells": [
  {
   "cell_type": "code",
   "execution_count": null,
   "metadata": {},
   "outputs": [],
   "source": [
    "from pathlib import Path\n",
    "import numpy as np\n",
    "import pandas as pd\n",
    "from scipy.stats import ttest_ind, ttest_rel, ttest_1samp\n",
    "import matplotlib.pyplot as plt\n",
    "import seaborn as sns\n",
    "import pingouin as pg\n",
    "import trompy as tp"
   ]
  },
  {
   "cell_type": "code",
   "execution_count": null,
   "metadata": {},
   "outputs": [],
   "source": [
    "DATAFOLDER = Path(\"..\\\\data\")\n",
    "FIGSFOLDER = Path(\"..\\\\figures\")\n",
    "FIGSFOLDER = Path(\"C:\\\\Users\\\\jmc010\\\\Dropbox\\\\Publications in Progress\\\\IPP Giulia paper\\\\figs\")\n",
    "\n",
    "save_figs = False\n",
    "\n",
    "def tweak_df(df):\n",
    "\n",
    "    df_nr = (df\n",
    "             .query(\"diet == 'NR'\")\n",
    "             .map(lambda x: x * 3.4 / 2 if isinstance(x, (int, float)) else x)\n",
    "    )\n",
    "\n",
    "    df_pr = (df\n",
    "             .query(\"diet == 'PR'\")\n",
    "             .map(lambda x: x * 4 / 2 if isinstance(x, (int, float)) else x)\n",
    "    )\n",
    "\n",
    "    return (pd\n",
    "            .concat([df_nr, df_pr])\n",
    "            .drop(columns=[\"cage\"])\n",
    "    )\n",
    "\n",
    "df = pd.read_csv(DATAFOLDER / \"foodintake.csv\", sep=\";\")\n",
    "df = tweak_df(df)"
   ]
  },
  {
   "cell_type": "code",
   "execution_count": null,
   "metadata": {},
   "outputs": [],
   "source": [
    "df"
   ]
  },
  {
   "cell_type": "code",
   "execution_count": null,
   "metadata": {},
   "outputs": [],
   "source": [
    "group_column = 'diet'  # Replace with the actual column name for grouping\n",
    "x_columns = df.columns.difference([group_column])\n"
   ]
  },
  {
   "cell_type": "code",
   "execution_count": null,
   "metadata": {},
   "outputs": [],
   "source": [
    "def plot_error(df, x_columns, ax=None, color=\"red\"):\n",
    "\n",
    "    mean = df[x_columns].mean()\n",
    "    sem = df[x_columns].sem()\n",
    "    x = np.arange(len(mean))\n",
    "\n",
    "    if ax is None:\n",
    "        fig, ax = plt.subplots(1, 1, figsize=(5, 5))\n",
    "    \n",
    "    ax.plot(mean, color=color)\n",
    "    ax.fill_between(x, mean - sem, mean + sem, color=color, alpha=0.3)\n",
    "\n",
    "f, ax = plt.subplots(1, 1, figsize=(5, 5))\n",
    "\n",
    "df_nr = df.query(\"diet == 'NR'\")\n",
    "df_pr = df.query(\"diet == 'PR'\")\n",
    "\n",
    "plot_error(df_nr, x_columns, ax=ax, color=\"red\")\n",
    "plot_error(df_pr, x_columns, ax=ax, color=\"blue\")\n",
    "\n",
    "ax.set_xticks(np.arange(len(x_columns)), labels=np.arange(len(x_columns)))\n",
    "ax.set_xlabel(\"Days\")\n",
    "ax.set_ylabel(\"Approx food intake (kcal / rat / day)\")\n",
    "\n",
    "ax.set_ylim(0, 140)\n",
    "\n",
    "ax.axvline(8, color=\"black\", linestyle=\"--\", alpha=0.5)\n",
    "ax.axvline(11, color=\"black\", linestyle=\"--\", alpha=0.5)\n",
    "\n",
    "\n",
    "\n"
   ]
  },
  {
   "cell_type": "code",
   "execution_count": null,
   "metadata": {},
   "outputs": [],
   "source": []
  }
 ],
 "metadata": {
  "kernelspec": {
   "display_name": "base",
   "language": "python",
   "name": "python3"
  },
  "language_info": {
   "codemirror_mode": {
    "name": "ipython",
    "version": 3
   },
   "file_extension": ".py",
   "mimetype": "text/x-python",
   "name": "python",
   "nbconvert_exporter": "python",
   "pygments_lexer": "ipython3",
   "version": "3.12.3"
  }
 },
 "nbformat": 4,
 "nbformat_minor": 2
}
