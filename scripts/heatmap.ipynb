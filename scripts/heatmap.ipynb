{
 "cells": [
  {
   "cell_type": "code",
   "execution_count": 13,
   "metadata": {},
   "outputs": [],
   "source": [
    "from pathlib import Path\n",
    "import numpy as np\n",
    "import pandas as pd\n",
    "import matplotlib.pyplot as plt\n",
    "import seaborn as sns\n",
    "import trompy as tp"
   ]
  },
  {
   "cell_type": "code",
   "execution_count": 14,
   "metadata": {},
   "outputs": [],
   "source": [
    "DATAFOLDER = Path(\"..\\\\data\")"
   ]
  },
  {
   "cell_type": "code",
   "execution_count": 15,
   "metadata": {},
   "outputs": [],
   "source": [
    "def tweak_df(df):\n",
    "\n",
    "    return (df\n",
    "            .query(\"session == 's4'\")\n",
    "            )\n",
    "\n",
    "df = pd.read_excel(DATAFOLDER / \"metafile_ipp.xlsx\", sheet_name=\"metafile Exp 1\")\n",
    "df = tweak_df(df)"
   ]
  },
  {
   "cell_type": "code",
   "execution_count": 16,
   "metadata": {},
   "outputs": [
    {
     "data": {
      "text/plain": [
       "[0.0,\n",
       " 0.20689655172413793,\n",
       " 0.3915343915343915,\n",
       " 0.351493848857645,\n",
       " 0.3115264797507788,\n",
       " 0.4274611398963731,\n",
       " 0.36585365853658536,\n",
       " 0.36585365853658536,\n",
       " 0.3679558011049724,\n",
       " 0.32205029013539654,\n",
       " 0.32811140121845084,\n",
       " 0.369281045751634,\n",
       " 0.3192090395480226,\n",
       " 0.2749391727493917,\n",
       " 0.2749391727493917,\n",
       " 0.2749391727493917,\n",
       " 0.2749391727493917,\n",
       " 0.27801332525741973,\n",
       " 0.27801332525741973,\n",
       " 0.27801332525741973,\n",
       " 0.2512315270935961,\n",
       " 0.2512315270935961,\n",
       " 0.2512315270935961,\n",
       " 0.23193532086912583,\n",
       " 0.21961722488038277,\n",
       " 0.21961722488038277,\n",
       " 0.21961722488038277,\n",
       " 0.21961722488038277,\n",
       " 0.2428040854224698,\n",
       " 0.33833671399594323,\n",
       " 0.4195729537366548,\n",
       " 0.4694209499024073,\n",
       " 0.467444120505345,\n",
       " 0.4737516005121639,\n",
       " 0.464576802507837,\n",
       " 0.464576802507837,\n",
       " 0.464576802507837,\n",
       " 0.46326977180368867,\n",
       " 0.46326977180368867,\n",
       " 0.5005817335660268,\n",
       " 0.5393077542259189,\n",
       " 0.5583847736625515,\n",
       " 0.5583847736625515,\n",
       " 0.5531210191082803,\n",
       " 0.5489254108723135,\n",
       " 0.5559355153883733,\n",
       " 0.587568058076225,\n",
       " 0.6122840690978887,\n",
       " 0.6206176961602671,\n",
       " 0.6206176961602671,\n",
       " 0.6173967199501764,\n",
       " 0.6173967199501764,\n",
       " 0.6173967199501764,\n",
       " 0.6173967199501764,\n",
       " 0.6173967199501764,\n",
       " 0.6173967199501764,\n",
       " 0.6173967199501764,\n",
       " 0.62109375,\n",
       " 0.6452358036573629,\n",
       " 0.6560925545810785]"
      ]
     },
     "execution_count": 16,
     "metadata": {},
     "output_type": "execute_result"
    }
   ],
   "source": [
    "def make_protein_pref_heatmap(casein_licks, malt_licks, bins):\n",
    "\n",
    "    casein_hist = np.histogram(casein_licks, bins=bins)[0]\n",
    "    malt_lickdata = np.histogram(malt_licks, bins=bins)[0]\n",
    "\n",
    "    casein_cumsum = np.cumsum(casein_hist)\n",
    "    malt_cumsum = np.cumsum(malt_lickdata)\n",
    "\n",
    "    preference_cumsum = []\n",
    "    for casbin, maltbin in zip(casein_cumsum, malt_cumsum):\n",
    "        preference_cumsum.append(casbin/(maltbin+casbin))\n",
    "\n",
    "    return preference_cumsum\n",
    "\n",
    "def get_heatmap_data_from_row(row, **kwargs):\n",
    "    filename = row.medfile\n",
    "    # print(f\"Processing {filename}\")\n",
    "\n",
    "    L, R = tp.medfilereader(DATAFOLDER / filename, vars_to_extract=[\"b\", \"e\"], remove_var_header=True)\n",
    "\n",
    "    if \"malt\" in row.bottleL and \"cas\" in row.bottleR:\n",
    "        med_var_malt, med_var_casein = L, R\n",
    "    elif \"malt\" in row.bottleR and \"cas\" in row.bottleL:\n",
    "        med_var_malt, med_var_casein = R, L\n",
    "    else:\n",
    "        raise ValueError(\"Bottles not found\")\n",
    "    \n",
    "    if \"bins\" in kwargs:\n",
    "        bins = kwargs[\"bins\"]\n",
    "    else:\n",
    "        bins = np.linspace(0,3600, 13)\n",
    "    \n",
    "    data = make_protein_pref_heatmap(med_var_casein, med_var_malt, bins)\n",
    "\n",
    "    return data\n",
    "\n",
    "get_heatmap_data_from_row(df.iloc[0], bins=np.linspace(0,3600, 61))"
   ]
  },
  {
   "cell_type": "code",
   "execution_count": 17,
   "metadata": {},
   "outputs": [
    {
     "data": {
      "image/png": "[encoded data removed]",
      "text/plain": [
       "<Figure size 500x300 with 2 Axes>"
      ]
     },
     "metadata": {},
     "output_type": "display_data"
    }
   ],
   "source": [
    "def sort_by_last_value(data):\n",
    "    data = np.array(data)\n",
    "    return data[np.argsort(data[:, -1])]\n",
    "\n",
    "bins=np.linspace(0,3600, 13)\n",
    "\n",
    "PR_data = []\n",
    "for row in df.query(\"dietgroup == 'PR'\").iterrows():\n",
    "    data = get_heatmap_data_from_row(row[1], bins=bins)\n",
    "    PR_data.append(data)\n",
    "\n",
    "NR_data = []\n",
    "for row in df.query(\"dietgroup == 'NR'\").iterrows():\n",
    "    data = get_heatmap_data_from_row(row[1], bins=bins)\n",
    "    NR_data.append(data)\n",
    "\n",
    "PR_data_to_plot = sort_by_last_value(PR_data)\n",
    "NR_data_to_plot = sort_by_last_value(NR_data)\n",
    "\n",
    "f, ax = plt.subplots(figsize=(5,3))\n",
    "sns.heatmap(PR_data_to_plot, ax=ax,\n",
    "            cmap=\"coolwarm\",\n",
    "            vmin=0, vmax=1,\n",
    "            )\n",
    "\n",
    "# Rotate the colorbar label\n",
    "cbar = ax.collections[0].colorbar\n",
    "# cbar.set_label('Protein\\npreference', rotation=0, labelpad=35)\n",
    "cbar.set_label('Protein preference', rotation=270, labelpad=15)\n",
    "\n",
    "ax.invert_yaxis()\n",
    "ax.set_yticks([])\n",
    "ax.set_ylabel(\"Protein-restricted rats\")\n",
    "\n",
    "ticks = np.linspace(0, PR_data_to_plot.shape[1], 7)\n",
    "\n",
    "ax.set_xticks(ticks,\n",
    "              labels=[0, 10, 20, 30, 40, 50, 60],\n",
    "              rotation=0)\n",
    "ax.set_xlabel(\"Time (min)\")\n",
    "\n",
    "f.savefig(Path(\"..\\\\figures\") / \"PR_heatmap.png\", dpi=300)"
   ]
  },
  {
   "cell_type": "code",
   "execution_count": 18,
   "metadata": {},
   "outputs": [
    {
     "name": "stdout",
     "output_type": "stream",
     "text": [
      "[0.0041507  0.0083014  0.01245211 0.01660281 0.02075351 0.02490421\n",
      " 0.02905492 0.03320562 0.03735632 0.04150702 0.04565773 0.04980843]\n"
     ]
    }
   ],
   "source": [
    "def bky_correction(pvals, alpha=0.05):\n",
    "    \"\"\"\n",
    "    Perform the Benjamini, Krieger, and Yekutieli (BKY) FDR correction.\n",
    "    \n",
    "    Parameters:\n",
    "    pvals (list or np.array): Array of p-values.\n",
    "    alpha (float): Significance level.\n",
    "    \n",
    "    Returns:\n",
    "    np.array: Array of boolean values indicating which hypotheses to reject.\n",
    "    \"\"\"\n",
    "    pvals = np.array(pvals)\n",
    "    m = len(pvals)\n",
    "    sorted_indices = np.argsort(pvals)\n",
    "    sorted_pvals = pvals[sorted_indices]\n",
    "    \n",
    "    # Calculate the critical values\n",
    "    critical_values = np.arange(1, m + 1) * alpha / (m * (1 + alpha / (m + 1)))\n",
    "    \n",
    "    print(critical_values)\n",
    "    \n",
    "    # Find the largest k such that p(k) <= critical_value(k)\n",
    "    reject = np.zeros(m, dtype=bool)\n",
    "    for k in range(m - 1, -1, -1):\n",
    "        if sorted_pvals[k] <= critical_values[k]:\n",
    "            reject[:k + 1] = True\n",
    "            break\n",
    "    \n",
    "    # Reorder the reject array to match the original p-values order\n",
    "    reject = reject[np.argsort(sorted_indices)]\n",
    "    return reject\n",
    "\n",
    "reject = bky_correction(p, alpha=0.05)"
   ]
  },
  {
   "cell_type": "code",
   "execution_count": 19,
   "metadata": {},
   "outputs": [
    {
     "name": "stdout",
     "output_type": "stream",
     "text": [
      "[0.0041507  0.0083014  0.01245211 0.01660281 0.02075351 0.02490421\n",
      " 0.02905492 0.03320562 0.03735632 0.04150702 0.04565773 0.04980843]\n"
     ]
    }
   ],
   "source": [
    "from scipy.stats import ttest_1samp\n",
    "t, p = ttest_1samp(PR_data_to_plot, 0.5, axis=0)\n",
    "\n",
    "# Apply FDR correction using the Benjamini, Krieger, and Yekutieli method\n",
    "reject = bky_correction(p, alpha=0.05)\n"
   ]
  },
  {
   "cell_type": "code",
   "execution_count": 21,
   "metadata": {},
   "outputs": [
    {
     "data": {
      "text/plain": [
       "array([0.00256825, 0.01801203, 0.01800265, 0.01287647, 0.01277332,\n",
       "       0.01638537, 0.01489819, 0.00800892, 0.01317507, 0.00962479,\n",
       "       0.01169576, 0.00999351])"
      ]
     },
     "execution_count": 21,
     "metadata": {},
     "output_type": "execute_result"
    }
   ],
   "source": [
    "p"
   ]
  },
  {
   "cell_type": "code",
   "execution_count": 20,
   "metadata": {},
   "outputs": [
    {
     "data": {
      "text/plain": [
       "array([ True,  True,  True,  True,  True,  True,  True,  True,  True,\n",
       "        True,  True,  True])"
      ]
     },
     "execution_count": 20,
     "metadata": {},
     "output_type": "execute_result"
    }
   ],
   "source": [
    "reject"
   ]
  },
  {
   "cell_type": "code",
   "execution_count": 22,
   "metadata": {},
   "outputs": [
    {
     "data": {
      "image/png": "[encoded data removed]",
      "text/plain": [
       "<Figure size 500x300 with 2 Axes>"
      ]
     },
     "metadata": {},
     "output_type": "display_data"
    }
   ],
   "source": [
    "f, ax = plt.subplots(figsize=(5,3))\n",
    "sns.heatmap(NR_data_to_plot, ax=ax, cmap=\"coolwarm\", vmin=0, vmax=1)\n",
    "ax.invert_yaxis()\n",
    "ax.set_yticks([])\n",
    "ax.set_ylabel(\"Non-restricted rats\")\n",
    "\n",
    "# Rotate the colorbar label\n",
    "cbar = ax.collections[0].colorbar\n",
    "cbar.set_label('Protein preference', rotation=270, labelpad=15)\n",
    "\n",
    "ax.set_xticks(ticks,\n",
    "              labels=[0, 10, 20, 30, 40, 50, 60],\n",
    "              rotation=0)\n",
    "ax.set_xlabel(\"Time (min)\")\n",
    "\n",
    "f.savefig(Path(\"..\\\\figures\") / \"NR_heatmap.png\", dpi=300)"
   ]
  },
  {
   "cell_type": "code",
   "execution_count": 23,
   "metadata": {},
   "outputs": [
    {
     "name": "stdout",
     "output_type": "stream",
     "text": [
      "[0.0041507  0.0083014  0.01245211 0.01660281 0.02075351 0.02490421\n",
      " 0.02905492 0.03320562 0.03735632 0.04150702 0.04565773 0.04980843]\n"
     ]
    }
   ],
   "source": [
    "from scipy.stats import ttest_1samp\n",
    "t, p = ttest_1samp(NR_data_to_plot, 0.5, axis=0)\n",
    "\n",
    "reject = bky_correction(p, alpha=0.05)"
   ]
  },
  {
   "cell_type": "code",
   "execution_count": 70,
   "metadata": {},
   "outputs": [
    {
     "data": {
      "text/plain": [
       "array([0.05327254, 0.06852194, 0.39780452, 0.65506768, 0.80923556,\n",
       "       0.73974272, 0.70692184, 0.77806111, 0.79805319, 0.88786941,\n",
       "       0.98133226, 0.93364709])"
      ]
     },
     "execution_count": 70,
     "metadata": {},
     "output_type": "execute_result"
    }
   ],
   "source": [
    "p"
   ]
  },
  {
   "cell_type": "code",
   "execution_count": 24,
   "metadata": {},
   "outputs": [
    {
     "data": {
      "text/plain": [
       "array([False, False, False, False, False, False, False, False, False,\n",
       "       False, False, False])"
      ]
     },
     "execution_count": 24,
     "metadata": {},
     "output_type": "execute_result"
    }
   ],
   "source": [
    "reject"
   ]
  },
  {
   "cell_type": "code",
   "execution_count": null,
   "metadata": {},
   "outputs": [],
   "source": []
  },
  {
   "cell_type": "code",
   "execution_count": 81,
   "metadata": {},
   "outputs": [],
   "source": [
    "df = pd.read_excel(DATAFOLDER / \"metafile_ipp.xlsx\", sheet_name=\"metafile Exp 2\")\n",
    "df = tweak_df(df)"
   ]
  },
  {
   "cell_type": "code",
   "execution_count": 82,
   "metadata": {},
   "outputs": [
    {
     "data": {
      "text/plain": [
       "Text(0.5, 3.722222222222216, 'Time (min)')"
      ]
     },
     "execution_count": 82,
     "metadata": {},
     "output_type": "execute_result"
    },
    {
     "data": {
      "image/png": "[encoded data removed]",
      "text/plain": [
       "<Figure size 500x300 with 2 Axes>"
      ]
     },
     "metadata": {},
     "output_type": "display_data"
    }
   ],
   "source": [
    "PR_data = []\n",
    "for row in df.query(\"dietgroup == 'PR'\").iterrows():\n",
    "    data = get_heatmap_data_from_row(row[1], bins=bins)\n",
    "    PR_data.append(data)\n",
    "\n",
    "NR_data = []\n",
    "for row in df.query(\"dietgroup == 'NR'\").iterrows():\n",
    "    data = get_heatmap_data_from_row(row[1], bins=bins)\n",
    "    NR_data.append(data)\n",
    "\n",
    "PR_data_to_plot = sort_by_last_value(PR_data)\n",
    "NR_data_to_plot = sort_by_last_value(NR_data)\n",
    "\n",
    "f, ax = plt.subplots(figsize=(5,3))\n",
    "sns.heatmap(PR_data_to_plot, ax=ax, cmap=\"coolwarm\", vmin=0, vmax=1)\n",
    "ax.invert_yaxis()\n",
    "ax.set_yticks([])\n",
    "ax.set_ylabel(\"Protein-restricted rats\")\n",
    "\n",
    "ticks = np.linspace(0, PR_data_to_plot.shape[1], 7)\n",
    "\n",
    "ax.set_xticks(ticks,\n",
    "              labels=[0, 10, 20, 30, 40, 50, 60],\n",
    "              rotation=0)\n",
    "ax.set_xlabel(\"Time (min)\")"
   ]
  },
  {
   "cell_type": "code",
   "execution_count": 86,
   "metadata": {},
   "outputs": [],
   "source": [
    "from scipy.stats import ttest_1samp\n",
    "t, p = ttest_1samp(PR_data_to_plot, 0.5, axis=0)\n",
    "\n",
    "reject = bky_correction(p, alpha=0.05)"
   ]
  },
  {
   "cell_type": "code",
   "execution_count": 87,
   "metadata": {},
   "outputs": [
    {
     "data": {
      "text/plain": [
       "array([False,  True,  True,  True,  True,  True,  True,  True,  True,\n",
       "        True,  True,  True])"
      ]
     },
     "execution_count": 87,
     "metadata": {},
     "output_type": "execute_result"
    }
   ],
   "source": [
    "reject"
   ]
  },
  {
   "cell_type": "code",
   "execution_count": 83,
   "metadata": {},
   "outputs": [
    {
     "data": {
      "text/plain": [
       "Text(0.5, 3.722222222222216, 'Time (min)')"
      ]
     },
     "execution_count": 83,
     "metadata": {},
     "output_type": "execute_result"
    },
    {
     "data": {
      "image/png": "[encoded data removed]",
      "text/plain": [
       "<Figure size 500x300 with 2 Axes>"
      ]
     },
     "metadata": {},
     "output_type": "display_data"
    }
   ],
   "source": [
    "f, ax = plt.subplots(figsize=(5,3))\n",
    "sns.heatmap(NR_data_to_plot, ax=ax, cmap=\"coolwarm\", vmin=0, vmax=1)\n",
    "ax.invert_yaxis()\n",
    "ax.set_yticks([])\n",
    "ax.set_ylabel(\"Non-restricted rats\")\n",
    "\n",
    "ax.set_xticks(ticks,\n",
    "              labels=[0, 10, 20, 30, 40, 50, 60],\n",
    "              rotation=0)\n",
    "ax.set_xlabel(\"Time (min)\")"
   ]
  },
  {
   "cell_type": "code",
   "execution_count": 84,
   "metadata": {},
   "outputs": [],
   "source": [
    "from scipy.stats import ttest_1samp\n",
    "t, p = ttest_1samp(NR_data_to_plot, 0.5, axis=0)\n",
    "\n",
    "reject = bky_correction(p, alpha=0.05)"
   ]
  },
  {
   "cell_type": "code",
   "execution_count": 85,
   "metadata": {},
   "outputs": [
    {
     "data": {
      "text/plain": [
       "array([False, False, False, False, False, False, False, False, False,\n",
       "       False, False, False])"
      ]
     },
     "execution_count": 85,
     "metadata": {},
     "output_type": "execute_result"
    }
   ],
   "source": [
    "reject"
   ]
  },
  {
   "cell_type": "code",
   "execution_count": null,
   "metadata": {},
   "outputs": [],
   "source": []
  }
 ],
 "metadata": {
  "kernelspec": {
   "display_name": "base",
   "language": "python",
   "name": "python3"
  },
  "language_info": {
   "codemirror_mode": {
    "name": "ipython",
    "version": 3
   },
   "file_extension": ".py",
   "mimetype": "text/x-python",
   "name": "python",
   "nbconvert_exporter": "python",
   "pygments_lexer": "ipython3",
   "version": "3.12.3"
  }
 },
 "nbformat": 4,
 "nbformat_minor": 2
}
