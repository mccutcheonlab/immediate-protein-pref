{
 "cells": [
  {
   "cell_type": "code",
   "execution_count": null,
   "metadata": {},
   "outputs": [],
   "source": [
    "from pathlib import Path\n",
    "import numpy as np\n",
    "import pandas as pd\n",
    "from scipy.stats import ttest_ind, ttest_rel, ttest_1samp\n",
    "import matplotlib.pyplot as plt\n",
    "import seaborn as sns\n",
    "import pingouin as pg\n",
    "import trompy as tp"
   ]
  },
  {
   "cell_type": "code",
   "execution_count": null,
   "metadata": {},
   "outputs": [],
   "source": [
    "DATAFOLDER = Path(\"..\\\\data\")\n",
    "FIGSFOLDER = Path(\"..\\\\figures\")\n",
    "FIGSFOLDER = Path(\"C:\\\\Users\\\\jmc010\\\\Dropbox\\\\Publications in Progress\\\\IPP Giulia paper\\\\figs\")\n",
    "\n",
    "save_figs = False\n",
    "\n",
    "def tweak_df(df, session=\"s4\"):\n",
    "\n",
    "    return (df\n",
    "            .query(\"session == @session\")\n",
    "            )\n",
    "\n",
    "df = pd.read_excel(DATAFOLDER / \"metafile_ipp.xlsx\", sheet_name=\"metafile Exp 1\")\n",
    "df = tweak_df(df)"
   ]
  },
  {
   "cell_type": "code",
   "execution_count": null,
   "metadata": {},
   "outputs": [],
   "source": [
    "def get_licks_per_solution(row):\n",
    "    filename = row.medfile\n",
    "    # print(f\"Processing {filename}\")\n",
    "\n",
    "    L, R = tp.medfilereader(DATAFOLDER / filename, vars_to_extract=[\"b\", \"e\"], remove_var_header=True)\n",
    "\n",
    "    if \"malt\" in row.bottleL and \"cas\" in row.bottleR:\n",
    "        med_var_malt, med_var_casein = L, R\n",
    "    elif \"malt\" in row.bottleR and \"cas\" in row.bottleL:\n",
    "        med_var_malt, med_var_casein = R, L\n",
    "    else:\n",
    "        raise ValueError(\"Bottles not found\")\n",
    "    \n",
    "    return med_var_casein, med_var_malt\n",
    "\n",
    "def get_pref_per_session(df):\n",
    "\n",
    "    NR_pref, PR_pref = [], []\n",
    "    \n",
    "    for idx, row in df.query(\"dietgroup == 'NR'\").iterrows():\n",
    "        cas_licks, malt_licks = get_licks_per_solution(row)\n",
    "        \n",
    "        NR_pref.append(len(cas_licks) / (len(cas_licks) + len(malt_licks)))\n",
    "    \n",
    "    for idx, row in df.query(\"dietgroup == 'PR'\").iterrows():\n",
    "        cas_licks, malt_licks = get_licks_per_solution(row)\n",
    "        \n",
    "        PR_pref.append(len(cas_licks) / (len(cas_licks) + len(malt_licks)))\n",
    "        \n",
    "    print(len(NR_pref), len(PR_pref))\n",
    "\n",
    "    return NR_pref, PR_pref"
   ]
  },
  {
   "cell_type": "code",
   "execution_count": null,
   "metadata": {},
   "outputs": [],
   "source": [
    "NR_pref_all, PR_pref_all = [], []\n",
    "for session in [\"s4\", \"s5\", \"s6\", \"s7\", \"s8\"]:\n",
    "    df = pd.read_excel(DATAFOLDER / \"metafile_ipp.xlsx\", sheet_name=\"metafile Exp 1\")\n",
    "    df = tweak_df(df, session=session)\n",
    "    \n",
    "    NR_pref, PR_pref = get_pref_per_session(df)\n",
    "    \n",
    "    NR_pref_all.append(NR_pref)\n",
    "    PR_pref_all.append(PR_pref)\n",
    "    \n",
    "NR_pref_all = np.array(NR_pref_all)\n",
    "PR_pref_all = np.array(PR_pref_all)\n",
    "    "
   ]
  },
  {
   "cell_type": "code",
   "execution_count": null,
   "metadata": {},
   "outputs": [],
   "source": [
    "f, ax = plt.subplots(figsize=(4, 2))\n",
    "\n",
    "NRx = np.arange(1, 6)\n",
    "PRx = np.arange(7.5, 12.5)\n",
    "\n",
    "ax.bar(NRx, np.mean(NR_pref_all, axis=1), color=\"xkcd:light gray\", label=\"NR\")\n",
    "ax.bar(PRx, np.mean(PR_pref_all, axis=1), color=\"xkcd:powder blue\", label=\"PR\")\n",
    "\n",
    "# ax.boxplot(NR_pref_all.T, positions=NRx, widths=0.5, patch_artist=True, boxprops=dict(facecolor=\"gray\"))\n",
    "# ax.boxplot(PR_pref_all.T, positions=PRx, widths=0.5, patch_artist=True, boxprops=dict(facecolor=\"xkcd:electric blue\"))\n",
    "\n",
    "for i in range(np.shape(NR_pref_all)[1]):\n",
    "    ax.plot(NRx, NR_pref_all[:,i], linestyle=\"-\", color=\"gray\", alpha=0.5)\n",
    "    ax.plot(PRx, PR_pref_all[:,i], linestyle=\"-\", color=\"xkcd:electric blue\", alpha=0.5)\n",
    "    # a\n",
    "    # ax.plot(PRx, PR_pref_all[i], \"o\", color=\"xkcd:electric blue\", alpha=0.5)\n",
    "\n",
    "ax.set_ylim(0, 1.1)\n",
    "ax.set_yticks([0, 0.5, 1])\n",
    "ax.set_ylabel(\"Protein preference\")\n",
    "\n",
    "ax.set_xticks([1,2,3,4,5,7.5,8.5,9.5,10.5,11.5],\n",
    "              labels=[1,2,3,4,5,1,2,3,4,5])\n",
    "\n",
    "ax.hlines(0.5, 0, 13, linestyle=\"--\", color=\"gray\", zorder=0, alpha=0.5)\n",
    "\n",
    "ax.spines[\"top\"].set_visible(False)\n",
    "ax.spines[\"right\"].set_visible(False)\n",
    "\n",
    "ax.set_xlim(0, 13)\n",
    "\n",
    "if save_figs:\n",
    "    f.savefig(FIGSFOLDER / \"3A_protein_preference.pdf\")\n"
   ]
  },
  {
   "cell_type": "code",
   "execution_count": null,
   "metadata": {},
   "outputs": [],
   "source": [
    "### Stats\n",
    "data = {\n",
    "    'subject': np.hstack([np.tile(np.arange(1, len(NR_pref_all[0]) + 1), 5), np.tile(np.arange(15,29), 5)]),\n",
    "    'diet': np.hstack([np.array([\"NR\"] * (14*5)), np.array([\"PR\"] * (14*5))]),\n",
    "    'day': np.tile(np.repeat(np.arange(1, 6), 14), 2),\n",
    "    'pref': np.concatenate([tp.flatten_list(NR_pref_all), tp.flatten_list(PR_pref_all)])\n",
    "}\n",
    "\n",
    "stats_df = pd.DataFrame(data)\n",
    "\n",
    "aov = pg.mixed_anova(data=stats_df, dv='pref', subject='subject', within='day', between='diet')\n",
    "\n",
    "print(aov)"
   ]
  },
  {
   "cell_type": "code",
   "execution_count": null,
   "metadata": {},
   "outputs": [],
   "source": [
    "## Statistics\n",
    "\n",
    "print(\"Non-restricted\")\n",
    "for idx, day in enumerate(NR_pref_all):\n",
    "    t, p = ttest_1samp(NR_pref_all[idx], 0.5)\n",
    "    print(f\"Day {idx+1}: t={t:.3f}, p={p:.3f}\")\n",
    "    \n",
    "print(\"Protein-restricted\")\n",
    "for idx, day in enumerate(PR_pref_all):\n",
    "    t, p = ttest_1samp(PR_pref_all[idx], 0.5)\n",
    "    print(f\"Day {idx+1}: t={t:.3f}, p={p:.3f}\")"
   ]
  },
  {
   "cell_type": "code",
   "execution_count": null,
   "metadata": {},
   "outputs": [],
   "source": [
    "# Stats for stability - permutation test\n",
    "\n",
    "shuffled_std = []\n",
    "for i in range(1000):\n",
    "    permuted_array = np.apply_along_axis(np.random.permutation, axis=1, arr=NR_pref_all)\n",
    "    shuffled_std.append(np.std(permuted_array, axis=0))\n",
    "\n",
    "shuffled_means = [np.mean(perm) for perm in shuffled_std]\n",
    "\n",
    "observed_std = np.std(NR_pref_all, axis=0)\n",
    "observed_mean = np.mean(observed_std)\n",
    "\n",
    "len(shuffled_means < observed_mean)\n",
    "\n",
    "\n",
    "\n",
    "\n"
   ]
  },
  {
   "cell_type": "code",
   "execution_count": null,
   "metadata": {},
   "outputs": [],
   "source": [
    "stats_df\n",
    "\n",
    "import pingouin as pg\n",
    "\n",
    "aov = pg.rm_anova(dv=\"pref\",\n",
    "                 within=\"day\",\n",
    "                 subject=\"subject\",\n",
    "                 data=stats_df.query(\"diet == 'NR'\"),\n",
    "                 detailed=True\n",
    "                 )\n",
    "\n",
    "print(aov)"
   ]
  },
  {
   "cell_type": "code",
   "execution_count": null,
   "metadata": {},
   "outputs": [],
   "source": [
    "import statsmodels.api as sm\n",
    "from statsmodels.formula.api import mixedlm\n",
    "\n",
    "model = mixedlm(\"pref ~ day\",\n",
    "                stats_df.query(\"diet == 'NR'\"),\n",
    "                groups=stats_df.query(\"diet == 'NR'\")[\"subject\"]).fit()\n",
    "\n",
    "print(model.summary())"
   ]
  },
  {
   "cell_type": "code",
   "execution_count": null,
   "metadata": {},
   "outputs": [],
   "source": [
    "shuffled_means"
   ]
  },
  {
   "cell_type": "code",
   "execution_count": null,
   "metadata": {},
   "outputs": [],
   "source": [
    "shuffled_means = [np.mean(perm) for perm in shuffled_std]"
   ]
  },
  {
   "cell_type": "code",
   "execution_count": null,
   "metadata": {},
   "outputs": [],
   "source": [
    "NR_pref_all"
   ]
  },
  {
   "cell_type": "code",
   "execution_count": null,
   "metadata": {},
   "outputs": [],
   "source": [
    "print(np.std(NR_pref_all, axis=0))\n",
    "np.std(permuted_array, axis=0)"
   ]
  },
  {
   "cell_type": "markdown",
   "metadata": {},
   "source": [
    "### Panel 3B"
   ]
  },
  {
   "cell_type": "code",
   "execution_count": null,
   "metadata": {},
   "outputs": [],
   "source": [
    "def get_clusters_per_session(df, dietgroup):\n",
    "\n",
    "    cas_cluster_num, malt_cluster_num = [], []\n",
    "    cas_cluster_size, malt_cluster_size = [], []\n",
    "    \n",
    "    for idx, row in df.query(\"dietgroup == @dietgroup\").iterrows():\n",
    "        cas_licks, malt_licks = get_licks_per_solution(row)\n",
    "        \n",
    "        cas_lickdata = tp.lickCalc(cas_licks, burstThreshold=0.5, minburstlength=3)\n",
    "        malt_lickdata = tp.lickCalc(malt_licks, burstThreshold=0.5, minburstlength=3)\n",
    "        \n",
    "        cas_cluster_num.append(cas_lickdata[\"bNum\"])\n",
    "        cas_cluster_size.append(np.mean(cas_lickdata[\"bLicks\"][1:-1]))\n",
    "        \n",
    "        malt_cluster_num.append(malt_lickdata[\"bNum\"])\n",
    "        malt_cluster_size.append(np.mean(malt_lickdata[\"bLicks\"][1:-1]))\n",
    "\n",
    "    return cas_cluster_num, malt_cluster_num, cas_cluster_size, malt_cluster_size"
   ]
  },
  {
   "cell_type": "code",
   "execution_count": null,
   "metadata": {},
   "outputs": [],
   "source": [
    "NR_cas_cluster_num, NR_malt_cluster_num = [], []\n",
    "PR_cas_cluster_num, PR_malt_cluster_num = [], []\n",
    "for session in [\"s4\", \"s5\", \"s6\", \"s7\", \"s8\"]:\n",
    "    df = pd.read_excel(DATAFOLDER / \"metafile_ipp.xlsx\", sheet_name=\"metafile Exp 1\")\n",
    "    df = tweak_df(df, session=session)\n",
    "    \n",
    "    cas_cluster_num, malt_cluster_num, _, _ = get_clusters_per_session(df, \"NR\")\n",
    "    \n",
    "    NR_cas_cluster_num.append(cas_cluster_num)\n",
    "    NR_malt_cluster_num.append(malt_cluster_num)\n",
    "    \n",
    "    cas_cluster_num, malt_cluster_num, _, _ = get_clusters_per_session(df, \"PR\")\n",
    "    \n",
    "    PR_cas_cluster_num.append(cas_cluster_num)\n",
    "    PR_malt_cluster_num.append(malt_cluster_num)\n",
    "    \n",
    "NR_cas_cluster_num = np.array(NR_cas_cluster_num)\n",
    "NR_malt_cluster_num = np.array(NR_malt_cluster_num)\n",
    "PR_cas_cluster_num = np.array(PR_cas_cluster_num)\n",
    "PR_malt_cluster_num = np.array(PR_malt_cluster_num)"
   ]
  },
  {
   "cell_type": "code",
   "execution_count": null,
   "metadata": {},
   "outputs": [],
   "source": [
    "def sem(data, axis=0):\n",
    "    return np.std(data, axis=axis) / np.sqrt(np.shape(data)[axis])\n",
    "\n",
    "f, [ax1, ax2] = plt.subplots(ncols = 2, figsize=(4, 2), sharey=True,\n",
    "                     gridspec_kw={\"left\": 0.15, \"right\": 0.90, \"top\": 0.9, \"bottom\": 0.25,\n",
    "                                  \"wspace\":0.25})\n",
    "\n",
    "x = np.arange(1, 6)\n",
    "ax1.errorbar(x, np.mean(NR_cas_cluster_num, axis=1), yerr=sem(NR_cas_cluster_num, axis=1), color=\"black\", label=\"Cas\", marker=\"o\")\n",
    "ax1.errorbar(x, np.mean(NR_malt_cluster_num, axis=1), yerr=sem(NR_malt_cluster_num, axis=1), color=\"grey\", label=\"Malt\", marker=\"o\")\n",
    "\n",
    "ax2.errorbar(x, np.mean(PR_cas_cluster_num, axis=1), yerr=sem(PR_cas_cluster_num, axis=1), color=\"xkcd:electric blue\", label=\"Cas\", marker=\"o\")\n",
    "ax2.errorbar(x, np.mean(PR_malt_cluster_num, axis=1), yerr=sem(PR_malt_cluster_num, axis=1), color=\"xkcd:powder blue\", label=\"Malt\", marker=\"o\")\n",
    "\n",
    "ax1.set_ylim(0,200)\n",
    "ax1.set_ylabel(\"Clusters\")\n",
    "\n",
    "\n",
    "for axis in [ax1, ax2]:\n",
    "    axis.set_xlim(0.5, 5.5)\n",
    "    axis.set_xticks([1,2,3,4,5], labels=[1,2,3,4,5])\n",
    "    axis.set_xlabel(\"Test day\")\n",
    "    axis.spines[\"top\"].set_visible(False)\n",
    "    axis.spines[\"right\"].set_visible(False)\n",
    "\n",
    "if save_figs:\n",
    "    f.savefig(FIGSFOLDER / \"3B_clusters.pdf\")"
   ]
  },
  {
   "cell_type": "markdown",
   "metadata": {},
   "source": [
    "### Panel 3C"
   ]
  },
  {
   "cell_type": "code",
   "execution_count": null,
   "metadata": {},
   "outputs": [],
   "source": [
    "NR_cas_cluster_size, NR_malt_cluster_size = [], []\n",
    "PR_cas_cluster_size, PR_malt_cluster_size = [], []\n",
    "for session in [\"s4\", \"s5\", \"s6\", \"s7\", \"s8\"]:\n",
    "    df = pd.read_excel(DATAFOLDER / \"metafile_ipp.xlsx\", sheet_name=\"metafile Exp 1\")\n",
    "    df = tweak_df(df, session=session)\n",
    "    \n",
    "    _, _, cas_cluster_size, malt_cluster_size = get_clusters_per_session(df, \"NR\")\n",
    "    \n",
    "    NR_cas_cluster_size.append(cas_cluster_size)\n",
    "    NR_malt_cluster_size.append(malt_cluster_size)\n",
    "    \n",
    "    _, _, cas_cluster_size, malt_cluster_size = get_clusters_per_session(df, \"PR\")\n",
    "    \n",
    "    PR_cas_cluster_size.append(cas_cluster_size)\n",
    "    PR_malt_cluster_size.append(malt_cluster_size)\n",
    "    \n",
    "NR_cas_cluster_size = np.array(NR_cas_cluster_size)\n",
    "NR_malt_cluster_size = np.array(NR_malt_cluster_size)\n",
    "PR_cas_cluster_size = np.array(PR_cas_cluster_size)\n",
    "PR_malt_cluster_size = np.array(PR_malt_cluster_size)\n",
    "\n",
    "PR_malt_cluster_size = np.nan_to_num(PR_malt_cluster_size, nan=0.0)"
   ]
  },
  {
   "cell_type": "code",
   "execution_count": null,
   "metadata": {},
   "outputs": [],
   "source": [
    "f, [ax1, ax2] = plt.subplots(ncols = 2, figsize=(4, 2), sharey=True,\n",
    "                     gridspec_kw={\"left\": 0.15, \"right\": 0.90, \"top\": 0.9, \"bottom\": 0.25,\n",
    "                                  \"wspace\":0.25})\n",
    "\n",
    "x = np.arange(1, 6)\n",
    "ax1.errorbar(x, np.mean(NR_cas_cluster_size, axis=1), yerr=sem(NR_cas_cluster_size, axis=1), color=\"black\", label=\"Cas\", marker=\"o\")\n",
    "ax1.errorbar(x, np.mean(NR_malt_cluster_size, axis=1), yerr=sem(NR_malt_cluster_size, axis=1), color=\"grey\", label=\"Malt\", marker=\"o\")\n",
    "\n",
    "ax2.errorbar(x, np.mean(PR_cas_cluster_size, axis=1), yerr=sem(PR_cas_cluster_size, axis=1), color=\"xkcd:electric blue\", label=\"Cas\", marker=\"o\")\n",
    "ax2.errorbar(x, np.mean(PR_malt_cluster_size, axis=1), yerr=sem(PR_malt_cluster_size, axis=1), color=\"xkcd:powder blue\", label=\"Malt\", marker=\"o\")\n",
    "\n",
    "ax1.set_ylim(0,60)\n",
    "ax1.set_ylabel(\"Cluster size\")\n",
    "\n",
    "\n",
    "for axis in [ax1, ax2]:\n",
    "    axis.set_xlim(0.5, 5.5)\n",
    "    axis.set_xticks([1,2,3,4,5], labels=[1,2,3,4,5])\n",
    "    axis.set_xlabel(\"Test day\")\n",
    "    axis.spines[\"top\"].set_visible(False)\n",
    "    axis.spines[\"right\"].set_visible(False)\n",
    "\n",
    "if save_figs:\n",
    "    f.savefig(FIGSFOLDER / \"3C_cluster size.pdf\")\n"
   ]
  },
  {
   "cell_type": "code",
   "execution_count": null,
   "metadata": {},
   "outputs": [],
   "source": [
    "## prep for stats in jasp, put data in wide format\n",
    "\n",
    "data = {\n",
    "    'subject': np.hstack([np.tile(np.arange(1, len(NR_pref_all[0]) + 1), 10), np.tile(np.arange(15,29), 10)]),\n",
    "    'diet': np.hstack([np.array([\"NR\"] * (14*10)), np.array([\"PR\"] * (14*10))]),\n",
    "    'day': np.tile(np.repeat(np.arange(1, 6), 14), 4),\n",
    "    'solution': np.hstack([np.tile(\"cas\", len(tp.flatten_list(NR_cas_cluster_num))),\n",
    "                           np.tile(\"malt\", len(tp.flatten_list(NR_malt_cluster_num))),\n",
    "                           np.tile(\"cas\", len(tp.flatten_list(PR_cas_cluster_num))),\n",
    "                           np.tile(\"malt\", len(tp.flatten_list(PR_malt_cluster_num)))]),\n",
    "    'cluster_num': np.concatenate([tp.flatten_list(NR_cas_cluster_num), tp.flatten_list(NR_malt_cluster_num), tp.flatten_list(PR_cas_cluster_num), tp.flatten_list(PR_malt_cluster_num)]),\n",
    "    'cluster_size': np.concatenate([tp.flatten_list(NR_cas_cluster_size), tp.flatten_list(NR_malt_cluster_size), tp.flatten_list(PR_cas_cluster_size), tp.flatten_list(PR_malt_cluster_size)])\n",
    "}\n",
    "\n",
    "for key in data.keys():\n",
    "    print(key, len(data[key]))\n",
    "\n",
    "df_stats = pd.DataFrame(data)"
   ]
  },
  {
   "cell_type": "code",
   "execution_count": null,
   "metadata": {},
   "outputs": [],
   "source": [
    "(df_stats\n",
    " .astype({\"day\": str})\n",
    " .assign(condition=lambda df_: df_.solution + \"_\" + df_.day)\n",
    " .pivot_table(index=[\"subject\", \"diet\"], columns=\"condition\", values=\"cluster_num\")\n",
    " .reset_index()\n",
    " .to_csv(Path(\"../data\") / \"clusters_over_days.csv\")\n",
    ")\n",
    "\n",
    "(df_stats\n",
    " .astype({\"day\": str})\n",
    " .assign(condition=lambda df_: df_.solution + \"_\" + df_.day)\n",
    " .pivot_table(index=[\"subject\", \"diet\"], columns=\"condition\", values=\"cluster_size\")\n",
    " .reset_index()\n",
    " .to_csv(Path(\"../data\") / \"cluster_size_over_days.csv\")\n",
    ")"
   ]
  },
  {
   "cell_type": "code",
   "execution_count": null,
   "metadata": {},
   "outputs": [],
   "source": []
  }
 ],
 "metadata": {
  "kernelspec": {
   "display_name": "base",
   "language": "python",
   "name": "python3"
  },
  "language_info": {
   "codemirror_mode": {
    "name": "ipython",
    "version": 3
   },
   "file_extension": ".py",
   "mimetype": "text/x-python",
   "name": "python",
   "nbconvert_exporter": "python",
   "pygments_lexer": "ipython3",
   "version": "3.12.3"
  }
 },
 "nbformat": 4,
 "nbformat_minor": 2
}
